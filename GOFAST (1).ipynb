{
 "cells": [
  {
   "cell_type": "markdown",
   "id": "52707a2c",
   "metadata": {},
   "source": [
    "# Анализ данных сервиса аренды самокатов GoFast с целью принятий решений, которые могут помочь бизнесу вырасти\n",
    "\n",
    "*Цель проекта:*\n",
    "\n",
    "Были получены данные о пользователях сервиса из нескольких городов, а также об их поездках. Нам нужно проанализировать данные и проверить некоторые гипотезы, которые могут помочь бизнесу вырасти.\n",
    "\n",
    "*План исследования:*\n",
    "\n",
    "- Изучение общей информаци\n",
    "- Подготовка данных\n",
    "- Исследовательский анализ данных\n",
    "- Проверка гипотез\n",
    "- Выведение общего вывода, подведение итогов исследования и выработка параметров для сервиса на основе полученных результатов\n",
    "\n"
   ]
  },
  {
   "cell_type": "code",
   "execution_count": 2,
   "id": "72576667",
   "metadata": {},
   "outputs": [],
   "source": [
    "import pandas as pd\n",
    "import matplotlib.pyplot as plt\n",
    "import seaborn as sns\n",
    "import numpy as np\n",
    "from scipy import stats as st\n",
    "from math import factorial\n",
    "from math import sqrt"
   ]
  },
  {
   "cell_type": "markdown",
   "id": "c42cbe00",
   "metadata": {},
   "source": [
    "#### Шаг 1. Загрузка данных"
   ]
  },
  {
   "cell_type": "code",
   "execution_count": 3,
   "id": "eff9f206",
   "metadata": {},
   "outputs": [],
   "source": [
    "#загружаем все датасеты и срзу переводим в даты то, что могло быть датами, но сейчас не принадлежит к этому типу\n",
    "df_users = pd.read_csv(\"/datasets/users_go.csv\")\n",
    "df_rides = pd.read_csv(\"/datasets/rides_go.csv\", parse_dates=['date'])\n",
    "df_subs = pd.read_csv(\"/datasets/subscriptions_go.csv\")"
   ]
  },
  {
   "cell_type": "markdown",
   "id": "e95ebca7",
   "metadata": {},
   "source": [
    "#### Шаг 2. Предобработка данных"
   ]
  },
  {
   "cell_type": "code",
   "execution_count": 4,
   "id": "3f5ca3ca",
   "metadata": {
    "scrolled": true
   },
   "outputs": [
    {
     "data": {
      "text/html": [
       "<div>\n",
       "<style scoped>\n",
       "    .dataframe tbody tr th:only-of-type {\n",
       "        vertical-align: middle;\n",
       "    }\n",
       "\n",
       "    .dataframe tbody tr th {\n",
       "        vertical-align: top;\n",
       "    }\n",
       "\n",
       "    .dataframe thead th {\n",
       "        text-align: right;\n",
       "    }\n",
       "</style>\n",
       "<table border=\"1\" class=\"dataframe\">\n",
       "  <thead>\n",
       "    <tr style=\"text-align: right;\">\n",
       "      <th></th>\n",
       "      <th>user_id</th>\n",
       "      <th>name</th>\n",
       "      <th>age</th>\n",
       "      <th>city</th>\n",
       "      <th>subscription_type</th>\n",
       "    </tr>\n",
       "  </thead>\n",
       "  <tbody>\n",
       "    <tr>\n",
       "      <th>0</th>\n",
       "      <td>1</td>\n",
       "      <td>Кира</td>\n",
       "      <td>22</td>\n",
       "      <td>Тюмень</td>\n",
       "      <td>ultra</td>\n",
       "    </tr>\n",
       "    <tr>\n",
       "      <th>1</th>\n",
       "      <td>2</td>\n",
       "      <td>Станислав</td>\n",
       "      <td>31</td>\n",
       "      <td>Омск</td>\n",
       "      <td>ultra</td>\n",
       "    </tr>\n",
       "    <tr>\n",
       "      <th>2</th>\n",
       "      <td>3</td>\n",
       "      <td>Алексей</td>\n",
       "      <td>20</td>\n",
       "      <td>Москва</td>\n",
       "      <td>ultra</td>\n",
       "    </tr>\n",
       "    <tr>\n",
       "      <th>3</th>\n",
       "      <td>4</td>\n",
       "      <td>Константин</td>\n",
       "      <td>26</td>\n",
       "      <td>Ростов-на-Дону</td>\n",
       "      <td>ultra</td>\n",
       "    </tr>\n",
       "    <tr>\n",
       "      <th>4</th>\n",
       "      <td>5</td>\n",
       "      <td>Адель</td>\n",
       "      <td>28</td>\n",
       "      <td>Омск</td>\n",
       "      <td>ultra</td>\n",
       "    </tr>\n",
       "  </tbody>\n",
       "</table>\n",
       "</div>"
      ],
      "text/plain": [
       "   user_id        name  age            city subscription_type\n",
       "0        1        Кира   22          Тюмень             ultra\n",
       "1        2   Станислав   31            Омск             ultra\n",
       "2        3     Алексей   20          Москва             ultra\n",
       "3        4  Константин   26  Ростов-на-Дону             ultra\n",
       "4        5       Адель   28            Омск             ultra"
      ]
     },
     "execution_count": 4,
     "metadata": {},
     "output_type": "execute_result"
    }
   ],
   "source": [
    "#посмотрим на них, на инфо и форму\n",
    "df_users.head()"
   ]
  },
  {
   "cell_type": "code",
   "execution_count": 5,
   "id": "7e3104b3",
   "metadata": {},
   "outputs": [
    {
     "name": "stdout",
     "output_type": "stream",
     "text": [
      "<class 'pandas.core.frame.DataFrame'>\n",
      "RangeIndex: 1565 entries, 0 to 1564\n",
      "Data columns (total 5 columns):\n",
      " #   Column             Non-Null Count  Dtype \n",
      "---  ------             --------------  ----- \n",
      " 0   user_id            1565 non-null   int64 \n",
      " 1   name               1565 non-null   object\n",
      " 2   age                1565 non-null   int64 \n",
      " 3   city               1565 non-null   object\n",
      " 4   subscription_type  1565 non-null   object\n",
      "dtypes: int64(2), object(3)\n",
      "memory usage: 61.3+ KB\n"
     ]
    }
   ],
   "source": [
    "df_users.info()"
   ]
  },
  {
   "cell_type": "code",
   "execution_count": 6,
   "id": "810a75fc",
   "metadata": {},
   "outputs": [
    {
     "data": {
      "text/html": [
       "<div>\n",
       "<style scoped>\n",
       "    .dataframe tbody tr th:only-of-type {\n",
       "        vertical-align: middle;\n",
       "    }\n",
       "\n",
       "    .dataframe tbody tr th {\n",
       "        vertical-align: top;\n",
       "    }\n",
       "\n",
       "    .dataframe thead th {\n",
       "        text-align: right;\n",
       "    }\n",
       "</style>\n",
       "<table border=\"1\" class=\"dataframe\">\n",
       "  <thead>\n",
       "    <tr style=\"text-align: right;\">\n",
       "      <th></th>\n",
       "      <th>user_id</th>\n",
       "      <th>distance</th>\n",
       "      <th>duration</th>\n",
       "      <th>date</th>\n",
       "    </tr>\n",
       "  </thead>\n",
       "  <tbody>\n",
       "    <tr>\n",
       "      <th>0</th>\n",
       "      <td>1</td>\n",
       "      <td>4409.919140</td>\n",
       "      <td>25.599769</td>\n",
       "      <td>2021-01-01</td>\n",
       "    </tr>\n",
       "    <tr>\n",
       "      <th>1</th>\n",
       "      <td>1</td>\n",
       "      <td>2617.592153</td>\n",
       "      <td>15.816871</td>\n",
       "      <td>2021-01-18</td>\n",
       "    </tr>\n",
       "    <tr>\n",
       "      <th>2</th>\n",
       "      <td>1</td>\n",
       "      <td>754.159807</td>\n",
       "      <td>6.232113</td>\n",
       "      <td>2021-04-20</td>\n",
       "    </tr>\n",
       "    <tr>\n",
       "      <th>3</th>\n",
       "      <td>1</td>\n",
       "      <td>2694.783254</td>\n",
       "      <td>18.511000</td>\n",
       "      <td>2021-08-11</td>\n",
       "    </tr>\n",
       "    <tr>\n",
       "      <th>4</th>\n",
       "      <td>1</td>\n",
       "      <td>4028.687306</td>\n",
       "      <td>26.265803</td>\n",
       "      <td>2021-08-28</td>\n",
       "    </tr>\n",
       "  </tbody>\n",
       "</table>\n",
       "</div>"
      ],
      "text/plain": [
       "   user_id     distance   duration       date\n",
       "0        1  4409.919140  25.599769 2021-01-01\n",
       "1        1  2617.592153  15.816871 2021-01-18\n",
       "2        1   754.159807   6.232113 2021-04-20\n",
       "3        1  2694.783254  18.511000 2021-08-11\n",
       "4        1  4028.687306  26.265803 2021-08-28"
      ]
     },
     "execution_count": 6,
     "metadata": {},
     "output_type": "execute_result"
    }
   ],
   "source": [
    "df_rides.head()"
   ]
  },
  {
   "cell_type": "code",
   "execution_count": 7,
   "id": "23fe4ad2",
   "metadata": {},
   "outputs": [
    {
     "name": "stdout",
     "output_type": "stream",
     "text": [
      "<class 'pandas.core.frame.DataFrame'>\n",
      "RangeIndex: 18068 entries, 0 to 18067\n",
      "Data columns (total 4 columns):\n",
      " #   Column    Non-Null Count  Dtype         \n",
      "---  ------    --------------  -----         \n",
      " 0   user_id   18068 non-null  int64         \n",
      " 1   distance  18068 non-null  float64       \n",
      " 2   duration  18068 non-null  float64       \n",
      " 3   date      18068 non-null  datetime64[ns]\n",
      "dtypes: datetime64[ns](1), float64(2), int64(1)\n",
      "memory usage: 564.8 KB\n"
     ]
    }
   ],
   "source": [
    "df_rides.info()"
   ]
  },
  {
   "cell_type": "code",
   "execution_count": 8,
   "id": "7e253552",
   "metadata": {},
   "outputs": [
    {
     "data": {
      "text/html": [
       "<div>\n",
       "<style scoped>\n",
       "    .dataframe tbody tr th:only-of-type {\n",
       "        vertical-align: middle;\n",
       "    }\n",
       "\n",
       "    .dataframe tbody tr th {\n",
       "        vertical-align: top;\n",
       "    }\n",
       "\n",
       "    .dataframe thead th {\n",
       "        text-align: right;\n",
       "    }\n",
       "</style>\n",
       "<table border=\"1\" class=\"dataframe\">\n",
       "  <thead>\n",
       "    <tr style=\"text-align: right;\">\n",
       "      <th></th>\n",
       "      <th>subscription_type</th>\n",
       "      <th>minute_price</th>\n",
       "      <th>start_ride_price</th>\n",
       "      <th>subscription_fee</th>\n",
       "    </tr>\n",
       "  </thead>\n",
       "  <tbody>\n",
       "    <tr>\n",
       "      <th>0</th>\n",
       "      <td>free</td>\n",
       "      <td>8</td>\n",
       "      <td>50</td>\n",
       "      <td>0</td>\n",
       "    </tr>\n",
       "    <tr>\n",
       "      <th>1</th>\n",
       "      <td>ultra</td>\n",
       "      <td>6</td>\n",
       "      <td>0</td>\n",
       "      <td>199</td>\n",
       "    </tr>\n",
       "  </tbody>\n",
       "</table>\n",
       "</div>"
      ],
      "text/plain": [
       "  subscription_type  minute_price  start_ride_price  subscription_fee\n",
       "0              free             8                50                 0\n",
       "1             ultra             6                 0               199"
      ]
     },
     "execution_count": 8,
     "metadata": {},
     "output_type": "execute_result"
    }
   ],
   "source": [
    "df_subs"
   ]
  },
  {
   "cell_type": "code",
   "execution_count": 9,
   "id": "396498c0",
   "metadata": {},
   "outputs": [
    {
     "name": "stdout",
     "output_type": "stream",
     "text": [
      "<class 'pandas.core.frame.DataFrame'>\n",
      "RangeIndex: 2 entries, 0 to 1\n",
      "Data columns (total 4 columns):\n",
      " #   Column             Non-Null Count  Dtype \n",
      "---  ------             --------------  ----- \n",
      " 0   subscription_type  2 non-null      object\n",
      " 1   minute_price       2 non-null      int64 \n",
      " 2   start_ride_price   2 non-null      int64 \n",
      " 3   subscription_fee   2 non-null      int64 \n",
      "dtypes: int64(3), object(1)\n",
      "memory usage: 192.0+ bytes\n"
     ]
    }
   ],
   "source": [
    "df_subs.info()"
   ]
  },
  {
   "cell_type": "code",
   "execution_count": 10,
   "id": "47fc3450",
   "metadata": {},
   "outputs": [
    {
     "name": "stdout",
     "output_type": "stream",
     "text": [
      "user_id              0\n",
      "name                 0\n",
      "age                  0\n",
      "city                 0\n",
      "subscription_type    0\n",
      "dtype: int64\n",
      "user_id     0\n",
      "distance    0\n",
      "duration    0\n",
      "date        0\n",
      "dtype: int64\n",
      "subscription_type    0\n",
      "minute_price         0\n",
      "start_ride_price     0\n",
      "subscription_fee     0\n",
      "dtype: int64\n"
     ]
    }
   ],
   "source": [
    "#првоерим, что пропусков нет\n",
    "print(df_users.isna().sum())\n",
    "print(df_rides.isna().sum())\n",
    "print(df_subs.isna().sum())"
   ]
  },
  {
   "cell_type": "code",
   "execution_count": 11,
   "id": "18f36a6f",
   "metadata": {},
   "outputs": [
    {
     "name": "stdout",
     "output_type": "stream",
     "text": [
      "31\n",
      "0\n",
      "0\n"
     ]
    }
   ],
   "source": [
    "#првоерим наличие дубликатов\n",
    "print(df_users.duplicated().sum())\n",
    "print(df_rides.duplicated().sum())\n",
    "print(df_subs.duplicated().sum())"
   ]
  },
  {
   "cell_type": "markdown",
   "id": "bbe3c28f",
   "metadata": {},
   "source": [
    "**Общее инфо и базовое описание данных**\n",
    "\n",
    "В датасете df_users есть колонки с инфо об именах пользователей, их возрасте, городе и подписке на сервис.\n",
    "\n",
    "- user_id\tуникальный идентификатор пользователя\n",
    "- name - имя пользователя\n",
    "- age - возраст\n",
    "- city - город\n",
    "- subscription_type - тип подписки (free, ultra)\n",
    "\n",
    "\n",
    "В датасете df_rides есть колонки о пользователях, их поездках (расстоянии, дате и продолжительности) и подписках.\n",
    "\n",
    "- user_id\t- уникальный идентификатор пользователя\n",
    "- distance - расстояние, которое пользователь проехал в текущей сессии (в метрах)\n",
    "- duration - продолжительность сессии (в минутах) — время с того момента, как пользователь нажал кнопку «Начать поездку» до момента, как он нажал кнопку «Завершить поездку»\n",
    "- date - дата совершения поездки\n",
    "\n",
    "В датасете df_subs содержится инфо о самих подписках.\n",
    "\n",
    "- subscription_type\t- тип подписки\n",
    "- minute_price - стоимость одной минуты поездки по данной подписке\n",
    "- start_ride_price - стоимость начала поездки\n",
    "- subscription_fee - стоимость ежемесячного платежа\n",
    "\n",
    "**Промежуточный вывод для дальнейшей предобработки данных**\n",
    "\n",
    "По датасетам увидели, что:\n",
    "\n",
    "- пропусков нет ни в одном из столбцов ни в одном датасете\n",
    "- есть 31 явный дубликат в таблице rides - *разберемся ниже*\n",
    "- названия колонок везде читаемы, ничего трогать не надо"
   ]
  },
  {
   "cell_type": "code",
   "execution_count": 12,
   "id": "d9e67212",
   "metadata": {},
   "outputs": [
    {
     "data": {
      "text/plain": [
       "0"
      ]
     },
     "execution_count": 12,
     "metadata": {},
     "output_type": "execute_result"
    }
   ],
   "source": [
    "#удаляем дубликаты из df_rides\n",
    "df_users= df_users.drop_duplicates()\n",
    "df_users.duplicated().sum()"
   ]
  },
  {
   "cell_type": "code",
   "execution_count": 13,
   "id": "0cc214cb",
   "metadata": {},
   "outputs": [
    {
     "data": {
      "text/html": [
       "<div>\n",
       "<style scoped>\n",
       "    .dataframe tbody tr th:only-of-type {\n",
       "        vertical-align: middle;\n",
       "    }\n",
       "\n",
       "    .dataframe tbody tr th {\n",
       "        vertical-align: top;\n",
       "    }\n",
       "\n",
       "    .dataframe thead th {\n",
       "        text-align: right;\n",
       "    }\n",
       "</style>\n",
       "<table border=\"1\" class=\"dataframe\">\n",
       "  <thead>\n",
       "    <tr style=\"text-align: right;\">\n",
       "      <th></th>\n",
       "      <th>user_id</th>\n",
       "      <th>distance</th>\n",
       "      <th>duration</th>\n",
       "      <th>date</th>\n",
       "      <th>month</th>\n",
       "    </tr>\n",
       "  </thead>\n",
       "  <tbody>\n",
       "    <tr>\n",
       "      <th>0</th>\n",
       "      <td>1</td>\n",
       "      <td>4409.919140</td>\n",
       "      <td>25.599769</td>\n",
       "      <td>2021-01-01</td>\n",
       "      <td>1</td>\n",
       "    </tr>\n",
       "    <tr>\n",
       "      <th>1</th>\n",
       "      <td>1</td>\n",
       "      <td>2617.592153</td>\n",
       "      <td>15.816871</td>\n",
       "      <td>2021-01-18</td>\n",
       "      <td>1</td>\n",
       "    </tr>\n",
       "    <tr>\n",
       "      <th>2</th>\n",
       "      <td>1</td>\n",
       "      <td>754.159807</td>\n",
       "      <td>6.232113</td>\n",
       "      <td>2021-04-20</td>\n",
       "      <td>4</td>\n",
       "    </tr>\n",
       "    <tr>\n",
       "      <th>3</th>\n",
       "      <td>1</td>\n",
       "      <td>2694.783254</td>\n",
       "      <td>18.511000</td>\n",
       "      <td>2021-08-11</td>\n",
       "      <td>8</td>\n",
       "    </tr>\n",
       "    <tr>\n",
       "      <th>4</th>\n",
       "      <td>1</td>\n",
       "      <td>4028.687306</td>\n",
       "      <td>26.265803</td>\n",
       "      <td>2021-08-28</td>\n",
       "      <td>8</td>\n",
       "    </tr>\n",
       "  </tbody>\n",
       "</table>\n",
       "</div>"
      ],
      "text/plain": [
       "   user_id     distance   duration       date  month\n",
       "0        1  4409.919140  25.599769 2021-01-01      1\n",
       "1        1  2617.592153  15.816871 2021-01-18      1\n",
       "2        1   754.159807   6.232113 2021-04-20      4\n",
       "3        1  2694.783254  18.511000 2021-08-11      8\n",
       "4        1  4028.687306  26.265803 2021-08-28      8"
      ]
     },
     "execution_count": 13,
     "metadata": {},
     "output_type": "execute_result"
    }
   ],
   "source": [
    "#создадим новую колонку с номерами месяцев в df_rides и сразу проверим\n",
    "df_rides['month'] = df_rides['date'].dt.month\n",
    "df_rides.head()"
   ]
  },
  {
   "cell_type": "code",
   "execution_count": 14,
   "id": "d7a15ab8",
   "metadata": {},
   "outputs": [
    {
     "name": "stdout",
     "output_type": "stream",
     "text": [
      "Самая ранняя дата: 2021-01-01 00:00:00\n",
      "Самая поздняя дата: 2021-12-30 00:00:00\n"
     ]
    }
   ],
   "source": [
    "min_date = df_rides['date'].min()\n",
    "max_date = df_rides['date'].max()\n",
    "\n",
    "print(f\"Самая ранняя дата: {min_date}\")\n",
    "print(f\"Самая поздняя дата: {max_date}\")"
   ]
  },
  {
   "cell_type": "markdown",
   "id": "1c853677",
   "metadata": {},
   "source": [
    "*Получается, что данные собраны для 2021 год*"
   ]
  },
  {
   "cell_type": "markdown",
   "id": "c92e3184",
   "metadata": {},
   "source": [
    "**Промежуточный вывод по предобработке данных**\n",
    "\n",
    "- Дубликатов было мало - 31 штука. Они были удалены. Датасет большой, на результаты удаление вряд ли повлияет.\n",
    "\n",
    "- Отсуствующих значений не обнаружено.\n",
    "\n",
    "- Формат данных был изменен для дат, столбец с месяцами был добавлен."
   ]
  },
  {
   "cell_type": "markdown",
   "id": "212593c7",
   "metadata": {},
   "source": [
    "#### Шаг 3. Исследовательский анализ данных"
   ]
  },
  {
   "cell_type": "code",
   "execution_count": 15,
   "id": "76b0382e",
   "metadata": {
    "scrolled": false
   },
   "outputs": [
    {
     "data": {
      "image/png": "[encoded data removed]",
      "text/plain": [
       "<Figure size 576x432 with 1 Axes>"
      ]
     },
     "metadata": {
      "needs_background": "light"
     },
     "output_type": "display_data"
    }
   ],
   "source": [
    "#визуализируем частоту встречаемости городов. Сразу поставим цифры, чтобы понятнее было\n",
    "ax = df_users[\"city\"].value_counts().plot.barh(figsize=(8, 6))\n",
    "plt.title(\"Распределение пользователей по городам\")\n",
    "plt.xlabel(\"Количество пользователей\")\n",
    "plt.ylabel(\"Город\")\n",
    "\n",
    "\n",
    "for p in ax.patches:\n",
    "    ax.annotate(str(int(p.get_width())), (p.get_x() + p.get_width(), p.get_y() + p.get_height() / 2.), ha='left', va='center')\n",
    "\n",
    "plt.show()"
   ]
  },
  {
   "cell_type": "code",
   "execution_count": 16,
   "id": "74cce864",
   "metadata": {},
   "outputs": [
    {
     "name": "stdout",
     "output_type": "stream",
     "text": [
      "Пятигорск         14.276402\n",
      "Екатеринбург      13.298566\n",
      "Ростов-на-Дону    12.907432\n",
      "Краснодар         12.581486\n",
      "Сочи              12.320730\n",
      "Омск              11.929596\n",
      "Тюмень            11.734029\n",
      "Москва            10.951760\n",
      "Name: city, dtype: float64\n"
     ]
    }
   ],
   "source": [
    "#Посмотрим, сколько пользователей в каждом городе на процентах\n",
    "city_counts = df_users[\"city\"].value_counts()\n",
    "total_users = city_counts.sum()\n",
    "\n",
    "city_percentages = (city_counts / total_users) * 100\n",
    "\n",
    "\n",
    "result_df = pd.DataFrame({'City Counts': city_counts, 'Percentage': city_percentages})\n",
    "\n",
    "print(city_percentages)"
   ]
  },
  {
   "cell_type": "code",
   "execution_count": 53,
   "id": "8e8f4285",
   "metadata": {},
   "outputs": [
    {
     "data": {
      "image/png": "[encoded data removed]",
      "text/plain": [
       "<Figure size 576x432 with 1 Axes>"
      ]
     },
     "metadata": {
      "needs_background": "light"
     },
     "output_type": "display_data"
    }
   ],
   "source": [
    "#оценим соотношение пользователей с подпиской и без подписки\n",
    "pivot_table = df_users.pivot_table(index='subscription_type', values='user_id', aggfunc='count')\n",
    "\n",
    "# Создайте график\n",
    "ax = pivot_table.plot(kind='bar', figsize=(8, 6), rot=0)\n",
    "\n",
    "ax.set_title(\"Пользователи с подпиской и без\")\n",
    "ax.set_xlabel(\"Тип подписки\")\n",
    "ax.set_ylabel(\"Количество пользователей\")\n",
    "for p in ax.patches:\n",
    "    ax.annotate(str(int(p.get_height())), (p.get_x() + p.get_width() / 2., p.get_height()), ha='center', va='bottom')\n",
    "\n",
    "plt.show()"
   ]
  },
  {
   "cell_type": "code",
   "execution_count": 18,
   "id": "2e5ea2aa",
   "metadata": {},
   "outputs": [
    {
     "data": {
      "image/png": "[encoded data removed]",
      "text/plain": [
       "<Figure size 432x288 with 1 Axes>"
      ]
     },
     "metadata": {
      "needs_background": "light"
     },
     "output_type": "display_data"
    }
   ],
   "source": [
    "#оценим распределение возрастов\n",
    "df_users[\"age\"].hist()\n",
    "plt.title(\"Распределение возраста пользователей\")\n",
    "plt.xlabel(\"Возраст\")\n",
    "plt.ylabel(\"Количество пользователей\")\n",
    "\n",
    "plt.show()"
   ]
  },
  {
   "cell_type": "markdown",
   "id": "5ce18535",
   "metadata": {},
   "source": [
    "Распределение - нормальное\n",
    "\n",
    "посмотрим точнее, сколько каких возрастов встречается. Визуализируем таблицу чистот"
   ]
  },
  {
   "cell_type": "code",
   "execution_count": 19,
   "id": "67bd5e79",
   "metadata": {},
   "outputs": [
    {
     "data": {
      "image/png": "[encoded data removed]",
      "text/plain": [
       "<Figure size 504x576 with 1 Axes>"
      ]
     },
     "metadata": {
      "needs_background": "light"
     },
     "output_type": "display_data"
    }
   ],
   "source": [
    "x = df_users[\"age\"].value_counts().plot.bar(figsize=(7, 8))\n",
    "x.set_xlabel(\"Возраст\")\n",
    "x.set_ylabel(\"Количество пользователей\")\n",
    "x.set_ylabel(\"Количество пользователей\")\n",
    "\n",
    "plt.show()"
   ]
  },
  {
   "cell_type": "code",
   "execution_count": 20,
   "id": "3b738077",
   "metadata": {},
   "outputs": [
    {
     "data": {
      "text/html": [
       "<div>\n",
       "<style scoped>\n",
       "    .dataframe tbody tr th:only-of-type {\n",
       "        vertical-align: middle;\n",
       "    }\n",
       "\n",
       "    .dataframe tbody tr th {\n",
       "        vertical-align: top;\n",
       "    }\n",
       "\n",
       "    .dataframe thead th {\n",
       "        text-align: right;\n",
       "    }\n",
       "</style>\n",
       "<table border=\"1\" class=\"dataframe\">\n",
       "  <thead>\n",
       "    <tr style=\"text-align: right;\">\n",
       "      <th></th>\n",
       "      <th>user_id</th>\n",
       "      <th>distance</th>\n",
       "      <th>duration</th>\n",
       "      <th>month</th>\n",
       "    </tr>\n",
       "  </thead>\n",
       "  <tbody>\n",
       "    <tr>\n",
       "      <th>count</th>\n",
       "      <td>18068.000000</td>\n",
       "      <td>18068.000000</td>\n",
       "      <td>18068.000000</td>\n",
       "      <td>18068.000000</td>\n",
       "    </tr>\n",
       "    <tr>\n",
       "      <th>mean</th>\n",
       "      <td>842.869936</td>\n",
       "      <td>3070.659976</td>\n",
       "      <td>17.805011</td>\n",
       "      <td>6.486772</td>\n",
       "    </tr>\n",
       "    <tr>\n",
       "      <th>std</th>\n",
       "      <td>434.734317</td>\n",
       "      <td>1116.831209</td>\n",
       "      <td>6.091051</td>\n",
       "      <td>3.437410</td>\n",
       "    </tr>\n",
       "    <tr>\n",
       "      <th>min</th>\n",
       "      <td>1.000000</td>\n",
       "      <td>0.855683</td>\n",
       "      <td>0.500000</td>\n",
       "      <td>1.000000</td>\n",
       "    </tr>\n",
       "    <tr>\n",
       "      <th>25%</th>\n",
       "      <td>487.000000</td>\n",
       "      <td>2543.226360</td>\n",
       "      <td>13.597563</td>\n",
       "      <td>4.000000</td>\n",
       "    </tr>\n",
       "    <tr>\n",
       "      <th>50%</th>\n",
       "      <td>889.000000</td>\n",
       "      <td>3133.609994</td>\n",
       "      <td>17.678395</td>\n",
       "      <td>6.000000</td>\n",
       "    </tr>\n",
       "    <tr>\n",
       "      <th>75%</th>\n",
       "      <td>1213.250000</td>\n",
       "      <td>3776.222735</td>\n",
       "      <td>21.724800</td>\n",
       "      <td>9.000000</td>\n",
       "    </tr>\n",
       "    <tr>\n",
       "      <th>max</th>\n",
       "      <td>1534.000000</td>\n",
       "      <td>7211.007745</td>\n",
       "      <td>40.823963</td>\n",
       "      <td>12.000000</td>\n",
       "    </tr>\n",
       "  </tbody>\n",
       "</table>\n",
       "</div>"
      ],
      "text/plain": [
       "            user_id      distance      duration         month\n",
       "count  18068.000000  18068.000000  18068.000000  18068.000000\n",
       "mean     842.869936   3070.659976     17.805011      6.486772\n",
       "std      434.734317   1116.831209      6.091051      3.437410\n",
       "min        1.000000      0.855683      0.500000      1.000000\n",
       "25%      487.000000   2543.226360     13.597563      4.000000\n",
       "50%      889.000000   3133.609994     17.678395      6.000000\n",
       "75%     1213.250000   3776.222735     21.724800      9.000000\n",
       "max     1534.000000   7211.007745     40.823963     12.000000"
      ]
     },
     "execution_count": 20,
     "metadata": {},
     "output_type": "execute_result"
    }
   ],
   "source": [
    "#Приступим к анализу показателей df_rides для определения распределений\n",
    "df_rides.describe()"
   ]
  },
  {
   "cell_type": "code",
   "execution_count": 21,
   "id": "64f503f0",
   "metadata": {},
   "outputs": [
    {
     "data": {
      "image/png": "[encoded data removed]",
      "text/plain": [
       "<Figure size 1080x360 with 2 Axes>"
      ]
     },
     "metadata": {
      "needs_background": "light"
     },
     "output_type": "display_data"
    }
   ],
   "source": [
    "#построим гистограммы по distance и duration в таблице df_rides и на всякий случай по возрасту df_users.\n",
    "#Посмотрим, есть ли там аномалии или странные значения\n",
    "#начнем с distance и duration в таблице df_rides\n",
    "\n",
    "fig, (ax1, ax2) = plt.subplots(1, 2, figsize=(15, 5))\n",
    "\n",
    "ax1.hist(df_rides[\"distance\"], bins=50, edgecolor='k')\n",
    "ax1.set_title(\"Распределение расстояний\")\n",
    "ax1.set_xlabel(\"Расстояние\")\n",
    "ax1.set_ylabel(\"Частота\")\n",
    "\n",
    "\n",
    "ax2.hist(df_rides[\"duration\"], bins=50, edgecolor='k')\n",
    "ax2.set_title(\"Распределение продолжительности поездок\")\n",
    "ax2.set_xlabel(\"Продолжительность\")\n",
    "ax2.set_ylabel(\"Частота\")\n",
    "\n",
    "plt.tight_layout()\n",
    "\n",
    "plt.show()"
   ]
  },
  {
   "cell_type": "markdown",
   "id": "b7bf6a5e",
   "metadata": {},
   "source": [
    "Судя по графикам и инфо о показателях, расстояние  и продолжительность распределны нормально, расстояние тоже близко к нормальному, но наблюдаются 2 пика. Возможно, люди доезжает до общественного транспорта или наоборот до дома или раоты с остановки и оставляют самокат."
   ]
  },
  {
   "cell_type": "code",
   "execution_count": 22,
   "id": "b454b3e9",
   "metadata": {},
   "outputs": [
    {
     "data": {
      "text/plain": [
       "1796"
      ]
     },
     "execution_count": 22,
     "metadata": {},
     "output_type": "execute_result"
    }
   ],
   "source": [
    "#Посмотри,сколько было коротких поездок\n",
    "len(df_rides[df_rides[\"distance\"] < 1500])"
   ]
  },
  {
   "cell_type": "code",
   "execution_count": 23,
   "id": "e27903f6",
   "metadata": {},
   "outputs": [
    {
     "data": {
      "image/png": "[encoded data removed]",
      "text/plain": [
       "<Figure size 432x288 with 1 Axes>"
      ]
     },
     "metadata": {
      "needs_background": "light"
     },
     "output_type": "display_data"
    }
   ],
   "source": [
    "# Теперь посмотрим распределение по месяцам. Визуализируем таблицу частот\n",
    "ax = df_rides[\"month\"].value_counts().plot.bar()\n",
    "ax.set_xlabel(\"Месяц\")\n",
    "ax.set_ylabel(\"Количество поездок\")\n",
    "\n",
    "plt.show()"
   ]
  },
  {
   "cell_type": "markdown",
   "id": "b046cd54",
   "metadata": {},
   "source": [
    "**Промежуточный вывод**\n",
    "\n",
    "Были описаны и визуализированы общие данные о пользователях и поездках:\n",
    "1) Частота встречаемости городов: больше всего пользователей в Пятигорске (219) и меньше всего в Москве (168). Всего городов 8: Тюмень, Омск, Москва, Ростов-на-Дону, Краснодар, Пятигорск, Екатеринбург, Сочи. Странно, что в Москве меньше, а в Тюмени больше. В Москве только 10% от всех, а в Тюмени - 14%. В Пятигорске на 30% больше пользователей чем в Москве, и это вызывает вопросы для бизнеса, почему столь разные города имеют такую разницу и не в пользу Москвы.\n",
    "\n",
    "2) Соотношение пользователей с подпиской и без подписки: 835 с подпиской, 699 без подписки.\n",
    "\n",
    "3) Возраст пользователей: распределён от 12 до 43. Больше всего клиентов в возрасте от 20 до 30 лет. Меньше всего самых взрослых и самых молодых: до 15 и от 37 до 43.\n",
    "\n",
    "4) Расстояние, которое пользователь преодолел за одну поездку, имеет 2 пика: один от 0 до 1500 метров (около 1800 значений), и остальная часть от 1500 до 6000 метров. Распределены нормально.\n",
    "\n",
    "5) Продолжительность поездок распределена нормально. Среднее лежит в районе 18 минут.\n",
    "\n",
    "6) Почему-то в январе поездок больше, чем в летние месяцы. Нужно уточнить у заказчика. "
   ]
  },
  {
   "cell_type": "code",
   "execution_count": 24,
   "id": "d52dccd8",
   "metadata": {},
   "outputs": [
    {
     "data": {
      "image/png": "[encoded data removed]",
      "text/plain": [
       "<Figure size 504x576 with 1 Axes>"
      ]
     },
     "metadata": {
      "needs_background": "light"
     },
     "output_type": "display_data"
    }
   ],
   "source": [
    "# Отсечем 1% самых редких значений в столбце с возрастом\n",
    "q1 = df_users[\"age\"].quantile(0.01)\n",
    "q3 = df_users[\"age\"].quantile(0.99)\n",
    "iqr = q3 - q1\n",
    "lower_bound = q1 - 1.5 * iqr\n",
    "upper_bound = q3 + 1.5 * iqr\n",
    "\n",
    "filtered_age_data = df_users[\"age\"][(df_users[\"age\"] >= lower_bound) & (df_users[\"age\"] <= upper_bound)]\n",
    "\n",
    "x = filtered_age_data.value_counts().plot.bar(figsize=(7, 8))\n",
    "x.set_xlabel(\"Возраст\")\n",
    "x.set_ylabel(\"Количество пользователей\")\n",
    "plt.title(\"Гистограмма возраста (99% данных)\")\n",
    "plt.show()"
   ]
  },
  {
   "cell_type": "code",
   "execution_count": 25,
   "id": "32e783f2",
   "metadata": {},
   "outputs": [
    {
     "data": {
      "image/png": "[encoded data removed]",
      "text/plain": [
       "<Figure size 864x432 with 2 Axes>"
      ]
     },
     "metadata": {
      "needs_background": "light"
     },
     "output_type": "display_data"
    }
   ],
   "source": [
    "# Отсечем 1% самых редких значений в столбцах с расстоянияем и длительностью поездки и сразу построим графики\n",
    "\n",
    "q1_distance = df_rides[\"distance\"].quantile(0.01)\n",
    "q99_distance = df_rides[\"distance\"].quantile(0.99) \n",
    "\n",
    "\n",
    "q1_duration = df_rides[\"duration\"].quantile(0.01) \n",
    "q99_duration = df_rides[\"duration\"].quantile(0.99) \n",
    "\n",
    "filtered_distance_data = df_rides[(df_rides[\"distance\"] >= q1_distance) & (df_rides[\"distance\"] <= q99_distance)]\n",
    "\n",
    "\n",
    "filtered_duration_data = df_rides[(df_rides[\"duration\"] >= q1_duration) & (df_rides[\"duration\"] <= q99_duration)]\n",
    "\n",
    "plt.figure(figsize=(12, 6))\n",
    "\n",
    "plt.subplot(1, 2, 1)\n",
    "plt.hist(filtered_distance_data[\"distance\"], bins=20, edgecolor='k')\n",
    "plt.xlabel(\"Расстояние\")\n",
    "plt.ylabel(\"Частота\")\n",
    "plt.title(\"Гистограмма расстояния (99% данных)\")\n",
    "\n",
    "plt.subplot(1, 2, 2)\n",
    "plt.hist(filtered_duration_data[\"duration\"], bins=20, edgecolor='k')\n",
    "plt.xlabel(\"Длительность\")\n",
    "plt.ylabel(\"Частота\")\n",
    "plt.title(\"Гистограмма длительности (99% данных)\")\n",
    "plt.tight_layout()\n",
    "plt.show()\n"
   ]
  },
  {
   "cell_type": "markdown",
   "id": "4ef51331",
   "metadata": {},
   "source": [
    "#### Шаг 4. Объединение данных"
   ]
  },
  {
   "cell_type": "code",
   "execution_count": 26,
   "id": "6bf288b5",
   "metadata": {
    "scrolled": true
   },
   "outputs": [
    {
     "data": {
      "text/html": [
       "<div>\n",
       "<style scoped>\n",
       "    .dataframe tbody tr th:only-of-type {\n",
       "        vertical-align: middle;\n",
       "    }\n",
       "\n",
       "    .dataframe tbody tr th {\n",
       "        vertical-align: top;\n",
       "    }\n",
       "\n",
       "    .dataframe thead th {\n",
       "        text-align: right;\n",
       "    }\n",
       "</style>\n",
       "<table border=\"1\" class=\"dataframe\">\n",
       "  <thead>\n",
       "    <tr style=\"text-align: right;\">\n",
       "      <th></th>\n",
       "      <th>user_id</th>\n",
       "      <th>name</th>\n",
       "      <th>age</th>\n",
       "      <th>city</th>\n",
       "      <th>subscription_type</th>\n",
       "      <th>distance</th>\n",
       "      <th>duration</th>\n",
       "      <th>date</th>\n",
       "      <th>month</th>\n",
       "      <th>minute_price</th>\n",
       "      <th>start_ride_price</th>\n",
       "      <th>subscription_fee</th>\n",
       "    </tr>\n",
       "  </thead>\n",
       "  <tbody>\n",
       "    <tr>\n",
       "      <th>0</th>\n",
       "      <td>1</td>\n",
       "      <td>Кира</td>\n",
       "      <td>22</td>\n",
       "      <td>Тюмень</td>\n",
       "      <td>ultra</td>\n",
       "      <td>4409.919140</td>\n",
       "      <td>25.599769</td>\n",
       "      <td>2021-01-01</td>\n",
       "      <td>1</td>\n",
       "      <td>6</td>\n",
       "      <td>0</td>\n",
       "      <td>199</td>\n",
       "    </tr>\n",
       "    <tr>\n",
       "      <th>1</th>\n",
       "      <td>1</td>\n",
       "      <td>Кира</td>\n",
       "      <td>22</td>\n",
       "      <td>Тюмень</td>\n",
       "      <td>ultra</td>\n",
       "      <td>2617.592153</td>\n",
       "      <td>15.816871</td>\n",
       "      <td>2021-01-18</td>\n",
       "      <td>1</td>\n",
       "      <td>6</td>\n",
       "      <td>0</td>\n",
       "      <td>199</td>\n",
       "    </tr>\n",
       "    <tr>\n",
       "      <th>2</th>\n",
       "      <td>1</td>\n",
       "      <td>Кира</td>\n",
       "      <td>22</td>\n",
       "      <td>Тюмень</td>\n",
       "      <td>ultra</td>\n",
       "      <td>754.159807</td>\n",
       "      <td>6.232113</td>\n",
       "      <td>2021-04-20</td>\n",
       "      <td>4</td>\n",
       "      <td>6</td>\n",
       "      <td>0</td>\n",
       "      <td>199</td>\n",
       "    </tr>\n",
       "    <tr>\n",
       "      <th>3</th>\n",
       "      <td>1</td>\n",
       "      <td>Кира</td>\n",
       "      <td>22</td>\n",
       "      <td>Тюмень</td>\n",
       "      <td>ultra</td>\n",
       "      <td>2694.783254</td>\n",
       "      <td>18.511000</td>\n",
       "      <td>2021-08-11</td>\n",
       "      <td>8</td>\n",
       "      <td>6</td>\n",
       "      <td>0</td>\n",
       "      <td>199</td>\n",
       "    </tr>\n",
       "    <tr>\n",
       "      <th>4</th>\n",
       "      <td>1</td>\n",
       "      <td>Кира</td>\n",
       "      <td>22</td>\n",
       "      <td>Тюмень</td>\n",
       "      <td>ultra</td>\n",
       "      <td>4028.687306</td>\n",
       "      <td>26.265803</td>\n",
       "      <td>2021-08-28</td>\n",
       "      <td>8</td>\n",
       "      <td>6</td>\n",
       "      <td>0</td>\n",
       "      <td>199</td>\n",
       "    </tr>\n",
       "    <tr>\n",
       "      <th>...</th>\n",
       "      <td>...</td>\n",
       "      <td>...</td>\n",
       "      <td>...</td>\n",
       "      <td>...</td>\n",
       "      <td>...</td>\n",
       "      <td>...</td>\n",
       "      <td>...</td>\n",
       "      <td>...</td>\n",
       "      <td>...</td>\n",
       "      <td>...</td>\n",
       "      <td>...</td>\n",
       "      <td>...</td>\n",
       "    </tr>\n",
       "    <tr>\n",
       "      <th>18063</th>\n",
       "      <td>1534</td>\n",
       "      <td>Альберт</td>\n",
       "      <td>25</td>\n",
       "      <td>Краснодар</td>\n",
       "      <td>free</td>\n",
       "      <td>3781.098080</td>\n",
       "      <td>19.822962</td>\n",
       "      <td>2021-11-04</td>\n",
       "      <td>11</td>\n",
       "      <td>8</td>\n",
       "      <td>50</td>\n",
       "      <td>0</td>\n",
       "    </tr>\n",
       "    <tr>\n",
       "      <th>18064</th>\n",
       "      <td>1534</td>\n",
       "      <td>Альберт</td>\n",
       "      <td>25</td>\n",
       "      <td>Краснодар</td>\n",
       "      <td>free</td>\n",
       "      <td>2840.423057</td>\n",
       "      <td>21.409799</td>\n",
       "      <td>2021-11-16</td>\n",
       "      <td>11</td>\n",
       "      <td>8</td>\n",
       "      <td>50</td>\n",
       "      <td>0</td>\n",
       "    </tr>\n",
       "    <tr>\n",
       "      <th>18065</th>\n",
       "      <td>1534</td>\n",
       "      <td>Альберт</td>\n",
       "      <td>25</td>\n",
       "      <td>Краснодар</td>\n",
       "      <td>free</td>\n",
       "      <td>3826.185507</td>\n",
       "      <td>18.435051</td>\n",
       "      <td>2021-11-18</td>\n",
       "      <td>11</td>\n",
       "      <td>8</td>\n",
       "      <td>50</td>\n",
       "      <td>0</td>\n",
       "    </tr>\n",
       "    <tr>\n",
       "      <th>18066</th>\n",
       "      <td>1534</td>\n",
       "      <td>Альберт</td>\n",
       "      <td>25</td>\n",
       "      <td>Краснодар</td>\n",
       "      <td>free</td>\n",
       "      <td>2902.308661</td>\n",
       "      <td>16.674362</td>\n",
       "      <td>2021-11-27</td>\n",
       "      <td>11</td>\n",
       "      <td>8</td>\n",
       "      <td>50</td>\n",
       "      <td>0</td>\n",
       "    </tr>\n",
       "    <tr>\n",
       "      <th>18067</th>\n",
       "      <td>1534</td>\n",
       "      <td>Альберт</td>\n",
       "      <td>25</td>\n",
       "      <td>Краснодар</td>\n",
       "      <td>free</td>\n",
       "      <td>2371.711192</td>\n",
       "      <td>15.893917</td>\n",
       "      <td>2021-12-29</td>\n",
       "      <td>12</td>\n",
       "      <td>8</td>\n",
       "      <td>50</td>\n",
       "      <td>0</td>\n",
       "    </tr>\n",
       "  </tbody>\n",
       "</table>\n",
       "<p>18068 rows × 12 columns</p>\n",
       "</div>"
      ],
      "text/plain": [
       "       user_id     name  age       city subscription_type     distance  \\\n",
       "0            1     Кира   22     Тюмень             ultra  4409.919140   \n",
       "1            1     Кира   22     Тюмень             ultra  2617.592153   \n",
       "2            1     Кира   22     Тюмень             ultra   754.159807   \n",
       "3            1     Кира   22     Тюмень             ultra  2694.783254   \n",
       "4            1     Кира   22     Тюмень             ultra  4028.687306   \n",
       "...        ...      ...  ...        ...               ...          ...   \n",
       "18063     1534  Альберт   25  Краснодар              free  3781.098080   \n",
       "18064     1534  Альберт   25  Краснодар              free  2840.423057   \n",
       "18065     1534  Альберт   25  Краснодар              free  3826.185507   \n",
       "18066     1534  Альберт   25  Краснодар              free  2902.308661   \n",
       "18067     1534  Альберт   25  Краснодар              free  2371.711192   \n",
       "\n",
       "        duration       date  month  minute_price  start_ride_price  \\\n",
       "0      25.599769 2021-01-01      1             6                 0   \n",
       "1      15.816871 2021-01-18      1             6                 0   \n",
       "2       6.232113 2021-04-20      4             6                 0   \n",
       "3      18.511000 2021-08-11      8             6                 0   \n",
       "4      26.265803 2021-08-28      8             6                 0   \n",
       "...          ...        ...    ...           ...               ...   \n",
       "18063  19.822962 2021-11-04     11             8                50   \n",
       "18064  21.409799 2021-11-16     11             8                50   \n",
       "18065  18.435051 2021-11-18     11             8                50   \n",
       "18066  16.674362 2021-11-27     11             8                50   \n",
       "18067  15.893917 2021-12-29     12             8                50   \n",
       "\n",
       "       subscription_fee  \n",
       "0                   199  \n",
       "1                   199  \n",
       "2                   199  \n",
       "3                   199  \n",
       "4                   199  \n",
       "...                 ...  \n",
       "18063                 0  \n",
       "18064                 0  \n",
       "18065                 0  \n",
       "18066                 0  \n",
       "18067                 0  \n",
       "\n",
       "[18068 rows x 12 columns]"
      ]
     },
     "execution_count": 26,
     "metadata": {},
     "output_type": "execute_result"
    }
   ],
   "source": [
    "#Объединим данные о пользователях, поездках и подписках в один датафрейм. Для этого воспользуемся методом merge().\n",
    "merged_df = df_users.merge(df_rides, on='user_id', how='inner')\n",
    "\n",
    "merged_df = merged_df.merge(df_subs, on='subscription_type', how='inner')\n",
    "\n",
    "#Проверим\n",
    "merged_df"
   ]
  },
  {
   "cell_type": "markdown",
   "id": "bce40be3",
   "metadata": {},
   "source": [
    "18068 строк. Значит, ничего не потеряли."
   ]
  },
  {
   "cell_type": "code",
   "execution_count": 27,
   "id": "0942fb30",
   "metadata": {},
   "outputs": [
    {
     "data": {
      "text/plain": [
       "user_id              0\n",
       "name                 0\n",
       "age                  0\n",
       "city                 0\n",
       "subscription_type    0\n",
       "distance             0\n",
       "duration             0\n",
       "date                 0\n",
       "month                0\n",
       "minute_price         0\n",
       "start_ride_price     0\n",
       "subscription_fee     0\n",
       "dtype: int64"
      ]
     },
     "execution_count": 27,
     "metadata": {},
     "output_type": "execute_result"
    }
   ],
   "source": [
    "merged_df.isna().sum()"
   ]
  },
  {
   "cell_type": "markdown",
   "id": "b700e177",
   "metadata": {},
   "source": [
    "**Вывод после объединения таблиц**\n",
    "\n",
    "Объединения таблиц прошло хорошо, данные не были потеряны, пропусков не обнаружено"
   ]
  },
  {
   "cell_type": "code",
   "execution_count": 28,
   "id": "bac740f7",
   "metadata": {},
   "outputs": [
    {
     "name": "stdout",
     "output_type": "stream",
     "text": [
      "(6500, 12)\n",
      "(11568, 12)\n",
      "user_id              0\n",
      "name                 0\n",
      "age                  0\n",
      "city                 0\n",
      "subscription_type    0\n",
      "distance             0\n",
      "duration             0\n",
      "date                 0\n",
      "month                0\n",
      "minute_price         0\n",
      "start_ride_price     0\n",
      "subscription_fee     0\n",
      "dtype: int64\n",
      "user_id              0\n",
      "name                 0\n",
      "age                  0\n",
      "city                 0\n",
      "subscription_type    0\n",
      "distance             0\n",
      "duration             0\n",
      "date                 0\n",
      "month                0\n",
      "minute_price         0\n",
      "start_ride_price     0\n",
      "subscription_fee     0\n",
      "dtype: int64\n"
     ]
    }
   ],
   "source": [
    "#Теперь создадим ещё два датафрейма из нового полного датафрейма и сразу проверим из размерность и пропуски в них:\n",
    "#c данными о пользователях без подписки и с данными о пользователях с подпиской\n",
    "\n",
    "df_with_subscription = merged_df[merged_df[\"subscription_type\"] == \"ultra\"]\n",
    "df_no_subscription = merged_df[merged_df[\"subscription_type\"] == \"free\"]\n",
    "\n",
    "print(df_with_subscription.shape)\n",
    "print(df_no_subscription.shape)\n",
    "print(df_with_subscription.isna().sum())\n",
    "print(df_no_subscription.isna().sum())"
   ]
  },
  {
   "cell_type": "code",
   "execution_count": 29,
   "id": "f326bfad",
   "metadata": {},
   "outputs": [
    {
     "data": {
      "text/html": [
       "<div>\n",
       "<style scoped>\n",
       "    .dataframe tbody tr th:only-of-type {\n",
       "        vertical-align: middle;\n",
       "    }\n",
       "\n",
       "    .dataframe tbody tr th {\n",
       "        vertical-align: top;\n",
       "    }\n",
       "\n",
       "    .dataframe thead th {\n",
       "        text-align: right;\n",
       "    }\n",
       "</style>\n",
       "<table border=\"1\" class=\"dataframe\">\n",
       "  <thead>\n",
       "    <tr style=\"text-align: right;\">\n",
       "      <th></th>\n",
       "      <th>user_id</th>\n",
       "      <th>name</th>\n",
       "      <th>age</th>\n",
       "      <th>city</th>\n",
       "      <th>subscription_type</th>\n",
       "      <th>distance</th>\n",
       "      <th>duration</th>\n",
       "      <th>date</th>\n",
       "      <th>month</th>\n",
       "      <th>minute_price</th>\n",
       "      <th>start_ride_price</th>\n",
       "      <th>subscription_fee</th>\n",
       "    </tr>\n",
       "  </thead>\n",
       "  <tbody>\n",
       "    <tr>\n",
       "      <th>0</th>\n",
       "      <td>1</td>\n",
       "      <td>Кира</td>\n",
       "      <td>22</td>\n",
       "      <td>Тюмень</td>\n",
       "      <td>ultra</td>\n",
       "      <td>4409.919140</td>\n",
       "      <td>25.599769</td>\n",
       "      <td>2021-01-01</td>\n",
       "      <td>1</td>\n",
       "      <td>6</td>\n",
       "      <td>0</td>\n",
       "      <td>199</td>\n",
       "    </tr>\n",
       "    <tr>\n",
       "      <th>1</th>\n",
       "      <td>1</td>\n",
       "      <td>Кира</td>\n",
       "      <td>22</td>\n",
       "      <td>Тюмень</td>\n",
       "      <td>ultra</td>\n",
       "      <td>2617.592153</td>\n",
       "      <td>15.816871</td>\n",
       "      <td>2021-01-18</td>\n",
       "      <td>1</td>\n",
       "      <td>6</td>\n",
       "      <td>0</td>\n",
       "      <td>199</td>\n",
       "    </tr>\n",
       "    <tr>\n",
       "      <th>2</th>\n",
       "      <td>1</td>\n",
       "      <td>Кира</td>\n",
       "      <td>22</td>\n",
       "      <td>Тюмень</td>\n",
       "      <td>ultra</td>\n",
       "      <td>754.159807</td>\n",
       "      <td>6.232113</td>\n",
       "      <td>2021-04-20</td>\n",
       "      <td>4</td>\n",
       "      <td>6</td>\n",
       "      <td>0</td>\n",
       "      <td>199</td>\n",
       "    </tr>\n",
       "    <tr>\n",
       "      <th>3</th>\n",
       "      <td>1</td>\n",
       "      <td>Кира</td>\n",
       "      <td>22</td>\n",
       "      <td>Тюмень</td>\n",
       "      <td>ultra</td>\n",
       "      <td>2694.783254</td>\n",
       "      <td>18.511000</td>\n",
       "      <td>2021-08-11</td>\n",
       "      <td>8</td>\n",
       "      <td>6</td>\n",
       "      <td>0</td>\n",
       "      <td>199</td>\n",
       "    </tr>\n",
       "    <tr>\n",
       "      <th>4</th>\n",
       "      <td>1</td>\n",
       "      <td>Кира</td>\n",
       "      <td>22</td>\n",
       "      <td>Тюмень</td>\n",
       "      <td>ultra</td>\n",
       "      <td>4028.687306</td>\n",
       "      <td>26.265803</td>\n",
       "      <td>2021-08-28</td>\n",
       "      <td>8</td>\n",
       "      <td>6</td>\n",
       "      <td>0</td>\n",
       "      <td>199</td>\n",
       "    </tr>\n",
       "  </tbody>\n",
       "</table>\n",
       "</div>"
      ],
      "text/plain": [
       "   user_id  name  age    city subscription_type     distance   duration  \\\n",
       "0        1  Кира   22  Тюмень             ultra  4409.919140  25.599769   \n",
       "1        1  Кира   22  Тюмень             ultra  2617.592153  15.816871   \n",
       "2        1  Кира   22  Тюмень             ultra   754.159807   6.232113   \n",
       "3        1  Кира   22  Тюмень             ultra  2694.783254  18.511000   \n",
       "4        1  Кира   22  Тюмень             ultra  4028.687306  26.265803   \n",
       "\n",
       "        date  month  minute_price  start_ride_price  subscription_fee  \n",
       "0 2021-01-01      1             6                 0               199  \n",
       "1 2021-01-18      1             6                 0               199  \n",
       "2 2021-04-20      4             6                 0               199  \n",
       "3 2021-08-11      8             6                 0               199  \n",
       "4 2021-08-28      8             6                 0               199  "
      ]
     },
     "execution_count": 29,
     "metadata": {},
     "output_type": "execute_result"
    }
   ],
   "source": [
    "#проверяем\n",
    "df_with_subscription.head()"
   ]
  },
  {
   "cell_type": "code",
   "execution_count": 30,
   "id": "c896ae34",
   "metadata": {},
   "outputs": [
    {
     "data": {
      "text/html": [
       "<div>\n",
       "<style scoped>\n",
       "    .dataframe tbody tr th:only-of-type {\n",
       "        vertical-align: middle;\n",
       "    }\n",
       "\n",
       "    .dataframe tbody tr th {\n",
       "        vertical-align: top;\n",
       "    }\n",
       "\n",
       "    .dataframe thead th {\n",
       "        text-align: right;\n",
       "    }\n",
       "</style>\n",
       "<table border=\"1\" class=\"dataframe\">\n",
       "  <thead>\n",
       "    <tr style=\"text-align: right;\">\n",
       "      <th></th>\n",
       "      <th>user_id</th>\n",
       "      <th>name</th>\n",
       "      <th>age</th>\n",
       "      <th>city</th>\n",
       "      <th>subscription_type</th>\n",
       "      <th>distance</th>\n",
       "      <th>duration</th>\n",
       "      <th>date</th>\n",
       "      <th>month</th>\n",
       "      <th>minute_price</th>\n",
       "      <th>start_ride_price</th>\n",
       "      <th>subscription_fee</th>\n",
       "    </tr>\n",
       "  </thead>\n",
       "  <tbody>\n",
       "    <tr>\n",
       "      <th>6500</th>\n",
       "      <td>700</td>\n",
       "      <td>Айдар</td>\n",
       "      <td>22</td>\n",
       "      <td>Омск</td>\n",
       "      <td>free</td>\n",
       "      <td>2515.690719</td>\n",
       "      <td>14.944286</td>\n",
       "      <td>2021-01-02</td>\n",
       "      <td>1</td>\n",
       "      <td>8</td>\n",
       "      <td>50</td>\n",
       "      <td>0</td>\n",
       "    </tr>\n",
       "    <tr>\n",
       "      <th>6501</th>\n",
       "      <td>700</td>\n",
       "      <td>Айдар</td>\n",
       "      <td>22</td>\n",
       "      <td>Омск</td>\n",
       "      <td>free</td>\n",
       "      <td>846.932642</td>\n",
       "      <td>16.234663</td>\n",
       "      <td>2021-02-01</td>\n",
       "      <td>2</td>\n",
       "      <td>8</td>\n",
       "      <td>50</td>\n",
       "      <td>0</td>\n",
       "    </tr>\n",
       "    <tr>\n",
       "      <th>6502</th>\n",
       "      <td>700</td>\n",
       "      <td>Айдар</td>\n",
       "      <td>22</td>\n",
       "      <td>Омск</td>\n",
       "      <td>free</td>\n",
       "      <td>4004.434142</td>\n",
       "      <td>20.016628</td>\n",
       "      <td>2021-02-04</td>\n",
       "      <td>2</td>\n",
       "      <td>8</td>\n",
       "      <td>50</td>\n",
       "      <td>0</td>\n",
       "    </tr>\n",
       "    <tr>\n",
       "      <th>6503</th>\n",
       "      <td>700</td>\n",
       "      <td>Айдар</td>\n",
       "      <td>22</td>\n",
       "      <td>Омск</td>\n",
       "      <td>free</td>\n",
       "      <td>1205.911290</td>\n",
       "      <td>9.782872</td>\n",
       "      <td>2021-02-10</td>\n",
       "      <td>2</td>\n",
       "      <td>8</td>\n",
       "      <td>50</td>\n",
       "      <td>0</td>\n",
       "    </tr>\n",
       "    <tr>\n",
       "      <th>6504</th>\n",
       "      <td>700</td>\n",
       "      <td>Айдар</td>\n",
       "      <td>22</td>\n",
       "      <td>Омск</td>\n",
       "      <td>free</td>\n",
       "      <td>3047.379435</td>\n",
       "      <td>17.427673</td>\n",
       "      <td>2021-02-14</td>\n",
       "      <td>2</td>\n",
       "      <td>8</td>\n",
       "      <td>50</td>\n",
       "      <td>0</td>\n",
       "    </tr>\n",
       "  </tbody>\n",
       "</table>\n",
       "</div>"
      ],
      "text/plain": [
       "      user_id   name  age  city subscription_type     distance   duration  \\\n",
       "6500      700  Айдар   22  Омск              free  2515.690719  14.944286   \n",
       "6501      700  Айдар   22  Омск              free   846.932642  16.234663   \n",
       "6502      700  Айдар   22  Омск              free  4004.434142  20.016628   \n",
       "6503      700  Айдар   22  Омск              free  1205.911290   9.782872   \n",
       "6504      700  Айдар   22  Омск              free  3047.379435  17.427673   \n",
       "\n",
       "           date  month  minute_price  start_ride_price  subscription_fee  \n",
       "6500 2021-01-02      1             8                50                 0  \n",
       "6501 2021-02-01      2             8                50                 0  \n",
       "6502 2021-02-04      2             8                50                 0  \n",
       "6503 2021-02-10      2             8                50                 0  \n",
       "6504 2021-02-14      2             8                50                 0  "
      ]
     },
     "execution_count": 30,
     "metadata": {},
     "output_type": "execute_result"
    }
   ],
   "source": [
    "#проверяем\n",
    "df_no_subscription.head()"
   ]
  },
  {
   "cell_type": "code",
   "execution_count": 31,
   "id": "182c495f",
   "metadata": {},
   "outputs": [
    {
     "data": {
      "image/png": "[encoded data removed]",
      "text/plain": [
       "<Figure size 432x288 with 1 Axes>"
      ]
     },
     "metadata": {
      "needs_background": "light"
     },
     "output_type": "display_data"
    }
   ],
   "source": [
    "#Теперь визуализируем информацию о расстоянии для пользователей обеих категорий.\n",
    "\n",
    "%matplotlib inline\n",
    "\n",
    "plt.hist(df_with_subscription[\"distance\"], bins=50, color='blue', alpha=0.8, label='С подпиской', histtype='step')\n",
    "\n",
    "plt.hist(df_no_subscription[\"distance\"], bins=50, color='red', alpha=0.8, label='Без подписки', histtype='step')\n",
    "\n",
    "plt.legend()\n",
    "\n",
    "plt.xlabel(\"Расстояние\")\n",
    "plt.ylabel(\"Частота\")\n",
    "plt.title(\"Распределение расстояния для пользователей с подпиской и без подписки\")\n",
    "\n",
    "plt.show()"
   ]
  },
  {
   "cell_type": "code",
   "execution_count": 32,
   "id": "63764d6e",
   "metadata": {},
   "outputs": [
    {
     "data": {
      "image/png": "[encoded data removed]",
      "text/plain": [
       "<Figure size 432x288 with 1 Axes>"
      ]
     },
     "metadata": {
      "needs_background": "light"
     },
     "output_type": "display_data"
    }
   ],
   "source": [
    "#Теперь визуализируем информацию о продолжительности поездок для пользователей обеих категорий.\n",
    "\n",
    "%matplotlib inline\n",
    "\n",
    "plt.hist(df_with_subscription[\"duration\"], bins=50, color='blue', alpha=0.8, label='С подпиской', histtype='step')\n",
    "\n",
    "plt.hist(df_no_subscription[\"duration\"], bins=50, color='red', alpha=0.8, label='Без подписки', histtype='step')\n",
    "\n",
    "plt.legend()\n",
    "\n",
    "plt.xlabel(\"Время\")\n",
    "plt.ylabel(\"Частота\")\n",
    "plt.title(\"Распределение продолжительности поездок для пользователей с подпиской и без подписки\")\n",
    "\n",
    "plt.show()"
   ]
  },
  {
   "cell_type": "markdown",
   "id": "5b4381ea",
   "metadata": {},
   "source": [
    "**Промежуточный вывод**\n",
    "\n",
    "- Тенденции по времени использованию самокатов и покрытым дистанциям родственны для пользователей с и без подписки, однако есть различия."
   ]
  },
  {
   "cell_type": "markdown",
   "id": "402d620f",
   "metadata": {},
   "source": [
    "#### Шаг 5. Подсчёт выручки"
   ]
  },
  {
   "cell_type": "code",
   "execution_count": 33,
   "id": "4878ac71",
   "metadata": {
    "scrolled": true
   },
   "outputs": [
    {
     "data": {
      "text/html": [
       "<div>\n",
       "<style scoped>\n",
       "    .dataframe tbody tr th:only-of-type {\n",
       "        vertical-align: middle;\n",
       "    }\n",
       "\n",
       "    .dataframe tbody tr th {\n",
       "        vertical-align: top;\n",
       "    }\n",
       "\n",
       "    .dataframe thead th {\n",
       "        text-align: right;\n",
       "    }\n",
       "</style>\n",
       "<table border=\"1\" class=\"dataframe\">\n",
       "  <thead>\n",
       "    <tr style=\"text-align: right;\">\n",
       "      <th></th>\n",
       "      <th></th>\n",
       "      <th>distance_total</th>\n",
       "      <th>duration_total</th>\n",
       "      <th>rides_total</th>\n",
       "    </tr>\n",
       "    <tr>\n",
       "      <th>user_id</th>\n",
       "      <th>month</th>\n",
       "      <th></th>\n",
       "      <th></th>\n",
       "      <th></th>\n",
       "    </tr>\n",
       "  </thead>\n",
       "  <tbody>\n",
       "    <tr>\n",
       "      <th rowspan=\"5\" valign=\"top\">1</th>\n",
       "      <th>1</th>\n",
       "      <td>7027.511294</td>\n",
       "      <td>42.0</td>\n",
       "      <td>2</td>\n",
       "    </tr>\n",
       "    <tr>\n",
       "      <th>4</th>\n",
       "      <td>754.159807</td>\n",
       "      <td>7.0</td>\n",
       "      <td>1</td>\n",
       "    </tr>\n",
       "    <tr>\n",
       "      <th>8</th>\n",
       "      <td>6723.470560</td>\n",
       "      <td>46.0</td>\n",
       "      <td>2</td>\n",
       "    </tr>\n",
       "    <tr>\n",
       "      <th>10</th>\n",
       "      <td>5809.911100</td>\n",
       "      <td>32.0</td>\n",
       "      <td>2</td>\n",
       "    </tr>\n",
       "    <tr>\n",
       "      <th>11</th>\n",
       "      <td>7003.499363</td>\n",
       "      <td>56.0</td>\n",
       "      <td>3</td>\n",
       "    </tr>\n",
       "    <tr>\n",
       "      <th>...</th>\n",
       "      <th>...</th>\n",
       "      <td>...</td>\n",
       "      <td>...</td>\n",
       "      <td>...</td>\n",
       "    </tr>\n",
       "    <tr>\n",
       "      <th rowspan=\"5\" valign=\"top\">1534</th>\n",
       "      <th>6</th>\n",
       "      <td>3409.468534</td>\n",
       "      <td>26.0</td>\n",
       "      <td>2</td>\n",
       "    </tr>\n",
       "    <tr>\n",
       "      <th>8</th>\n",
       "      <td>7622.453034</td>\n",
       "      <td>48.0</td>\n",
       "      <td>2</td>\n",
       "    </tr>\n",
       "    <tr>\n",
       "      <th>9</th>\n",
       "      <td>4928.173852</td>\n",
       "      <td>23.0</td>\n",
       "      <td>1</td>\n",
       "    </tr>\n",
       "    <tr>\n",
       "      <th>11</th>\n",
       "      <td>13350.015305</td>\n",
       "      <td>78.0</td>\n",
       "      <td>4</td>\n",
       "    </tr>\n",
       "    <tr>\n",
       "      <th>12</th>\n",
       "      <td>2371.711192</td>\n",
       "      <td>16.0</td>\n",
       "      <td>1</td>\n",
       "    </tr>\n",
       "  </tbody>\n",
       "</table>\n",
       "<p>11331 rows × 3 columns</p>\n",
       "</div>"
      ],
      "text/plain": [
       "               distance_total  duration_total  rides_total\n",
       "user_id month                                             \n",
       "1       1         7027.511294            42.0            2\n",
       "        4          754.159807             7.0            1\n",
       "        8         6723.470560            46.0            2\n",
       "        10        5809.911100            32.0            2\n",
       "        11        7003.499363            56.0            3\n",
       "...                       ...             ...          ...\n",
       "1534    6         3409.468534            26.0            2\n",
       "        8         7622.453034            48.0            2\n",
       "        9         4928.173852            23.0            1\n",
       "        11       13350.015305            78.0            4\n",
       "        12        2371.711192            16.0            1\n",
       "\n",
       "[11331 rows x 3 columns]"
      ]
     },
     "execution_count": 33,
     "metadata": {},
     "output_type": "execute_result"
    }
   ],
   "source": [
    "#Создадим датафрейм с агрегированными данными о поездках на основе датафрейма с объединёнными данными из шага 4: найдите суммарное расстояние, количество поездок и суммарное время для каждого пользователя за каждый месяц.\n",
    "#сразу округлим, как юыло указано в задаче\n",
    "merged_df['duration'] = np.ceil(merged_df['duration'])\n",
    "df_pivot = merged_df.pivot_table(index= [\"user_id\", \"month\"], values = [\"distance\", \"duration\", \"date\"],\n",
    "                                 aggfunc={\"distance\": \"sum\", \"duration\": \"sum\", \"user_id\": \"count\"})\n",
    "\n",
    "# Переименуем столбцы\n",
    "df_pivot = df_pivot.rename(columns={\"distance\": \"distance_total\",\n",
    "                                    \"duration\": \"duration_total\",\n",
    "                                    \"user_id\": \"rides_total\"})\n",
    "df_pivot"
   ]
  },
  {
   "cell_type": "code",
   "execution_count": 34,
   "id": "6cae495a",
   "metadata": {},
   "outputs": [
    {
     "data": {
      "text/plain": [
       "distance_total    0\n",
       "duration_total    0\n",
       "rides_total       0\n",
       "dtype: int64"
      ]
     },
     "execution_count": 34,
     "metadata": {},
     "output_type": "execute_result"
    }
   ],
   "source": [
    "df_pivot.isna().sum()"
   ]
  },
  {
   "cell_type": "code",
   "execution_count": 35,
   "id": "c966c95f",
   "metadata": {},
   "outputs": [
    {
     "data": {
      "text/html": [
       "<div>\n",
       "<style scoped>\n",
       "    .dataframe tbody tr th:only-of-type {\n",
       "        vertical-align: middle;\n",
       "    }\n",
       "\n",
       "    .dataframe tbody tr th {\n",
       "        vertical-align: top;\n",
       "    }\n",
       "\n",
       "    .dataframe thead th {\n",
       "        text-align: right;\n",
       "    }\n",
       "</style>\n",
       "<table border=\"1\" class=\"dataframe\">\n",
       "  <thead>\n",
       "    <tr style=\"text-align: right;\">\n",
       "      <th></th>\n",
       "      <th>distance_total</th>\n",
       "      <th>duration_total</th>\n",
       "      <th>rides_total</th>\n",
       "      <th>subscription_type</th>\n",
       "      <th>minute_price</th>\n",
       "      <th>start_ride_price</th>\n",
       "      <th>subscription_fee</th>\n",
       "    </tr>\n",
       "  </thead>\n",
       "  <tbody>\n",
       "    <tr>\n",
       "      <th>0</th>\n",
       "      <td>7027.511294</td>\n",
       "      <td>42.0</td>\n",
       "      <td>2</td>\n",
       "      <td>ultra</td>\n",
       "      <td>6</td>\n",
       "      <td>0</td>\n",
       "      <td>199</td>\n",
       "    </tr>\n",
       "    <tr>\n",
       "      <th>1</th>\n",
       "      <td>754.159807</td>\n",
       "      <td>7.0</td>\n",
       "      <td>1</td>\n",
       "      <td>ultra</td>\n",
       "      <td>6</td>\n",
       "      <td>0</td>\n",
       "      <td>199</td>\n",
       "    </tr>\n",
       "    <tr>\n",
       "      <th>2</th>\n",
       "      <td>6723.470560</td>\n",
       "      <td>46.0</td>\n",
       "      <td>2</td>\n",
       "      <td>ultra</td>\n",
       "      <td>6</td>\n",
       "      <td>0</td>\n",
       "      <td>199</td>\n",
       "    </tr>\n",
       "    <tr>\n",
       "      <th>3</th>\n",
       "      <td>5809.911100</td>\n",
       "      <td>32.0</td>\n",
       "      <td>2</td>\n",
       "      <td>ultra</td>\n",
       "      <td>6</td>\n",
       "      <td>0</td>\n",
       "      <td>199</td>\n",
       "    </tr>\n",
       "    <tr>\n",
       "      <th>4</th>\n",
       "      <td>7003.499363</td>\n",
       "      <td>56.0</td>\n",
       "      <td>3</td>\n",
       "      <td>ultra</td>\n",
       "      <td>6</td>\n",
       "      <td>0</td>\n",
       "      <td>199</td>\n",
       "    </tr>\n",
       "    <tr>\n",
       "      <th>...</th>\n",
       "      <td>...</td>\n",
       "      <td>...</td>\n",
       "      <td>...</td>\n",
       "      <td>...</td>\n",
       "      <td>...</td>\n",
       "      <td>...</td>\n",
       "      <td>...</td>\n",
       "    </tr>\n",
       "    <tr>\n",
       "      <th>11326</th>\n",
       "      <td>3409.468534</td>\n",
       "      <td>26.0</td>\n",
       "      <td>2</td>\n",
       "      <td>free</td>\n",
       "      <td>8</td>\n",
       "      <td>50</td>\n",
       "      <td>0</td>\n",
       "    </tr>\n",
       "    <tr>\n",
       "      <th>11327</th>\n",
       "      <td>7622.453034</td>\n",
       "      <td>48.0</td>\n",
       "      <td>2</td>\n",
       "      <td>free</td>\n",
       "      <td>8</td>\n",
       "      <td>50</td>\n",
       "      <td>0</td>\n",
       "    </tr>\n",
       "    <tr>\n",
       "      <th>11328</th>\n",
       "      <td>4928.173852</td>\n",
       "      <td>23.0</td>\n",
       "      <td>1</td>\n",
       "      <td>free</td>\n",
       "      <td>8</td>\n",
       "      <td>50</td>\n",
       "      <td>0</td>\n",
       "    </tr>\n",
       "    <tr>\n",
       "      <th>11329</th>\n",
       "      <td>13350.015305</td>\n",
       "      <td>78.0</td>\n",
       "      <td>4</td>\n",
       "      <td>free</td>\n",
       "      <td>8</td>\n",
       "      <td>50</td>\n",
       "      <td>0</td>\n",
       "    </tr>\n",
       "    <tr>\n",
       "      <th>11330</th>\n",
       "      <td>2371.711192</td>\n",
       "      <td>16.0</td>\n",
       "      <td>1</td>\n",
       "      <td>free</td>\n",
       "      <td>8</td>\n",
       "      <td>50</td>\n",
       "      <td>0</td>\n",
       "    </tr>\n",
       "  </tbody>\n",
       "</table>\n",
       "<p>11331 rows × 7 columns</p>\n",
       "</div>"
      ],
      "text/plain": [
       "       distance_total  duration_total  rides_total subscription_type  \\\n",
       "0         7027.511294            42.0            2             ultra   \n",
       "1          754.159807             7.0            1             ultra   \n",
       "2         6723.470560            46.0            2             ultra   \n",
       "3         5809.911100            32.0            2             ultra   \n",
       "4         7003.499363            56.0            3             ultra   \n",
       "...               ...             ...          ...               ...   \n",
       "11326     3409.468534            26.0            2              free   \n",
       "11327     7622.453034            48.0            2              free   \n",
       "11328     4928.173852            23.0            1              free   \n",
       "11329    13350.015305            78.0            4              free   \n",
       "11330     2371.711192            16.0            1              free   \n",
       "\n",
       "       minute_price  start_ride_price  subscription_fee  \n",
       "0                 6                 0               199  \n",
       "1                 6                 0               199  \n",
       "2                 6                 0               199  \n",
       "3                 6                 0               199  \n",
       "4                 6                 0               199  \n",
       "...             ...               ...               ...  \n",
       "11326             8                50                 0  \n",
       "11327             8                50                 0  \n",
       "11328             8                50                 0  \n",
       "11329             8                50                 0  \n",
       "11330             8                50                 0  \n",
       "\n",
       "[11331 rows x 7 columns]"
      ]
     },
     "execution_count": 35,
     "metadata": {},
     "output_type": "execute_result"
    }
   ],
   "source": [
    "#Подмаппим тип подписки в новый датафрейм для подсчета помесячной стоимости\n",
    "df_pivot['subscription_type'] = None\n",
    "\n",
    "# Задаем функцию для определения типа подписки\n",
    "def determine_subscription_type(user_id):\n",
    "    return df_users[df_users['user_id'] == user_id]['subscription_type'].values[0]\n",
    "\n",
    "df_pivot['subscription_type'] = df_pivot.index.get_level_values('user_id').map(determine_subscription_type)\n",
    "df_pivot_merged = df_pivot.merge(df_subs, on=\"subscription_type\", how=\"inner\" )\n",
    "df_pivot_merged"
   ]
  },
  {
   "cell_type": "code",
   "execution_count": 54,
   "id": "8219ebaf",
   "metadata": {},
   "outputs": [
    {
     "data": {
      "text/html": [
       "<div>\n",
       "<style scoped>\n",
       "    .dataframe tbody tr th:only-of-type {\n",
       "        vertical-align: middle;\n",
       "    }\n",
       "\n",
       "    .dataframe tbody tr th {\n",
       "        vertical-align: top;\n",
       "    }\n",
       "\n",
       "    .dataframe thead th {\n",
       "        text-align: right;\n",
       "    }\n",
       "</style>\n",
       "<table border=\"1\" class=\"dataframe\">\n",
       "  <thead>\n",
       "    <tr style=\"text-align: right;\">\n",
       "      <th></th>\n",
       "      <th>distance_total</th>\n",
       "      <th>duration_total</th>\n",
       "      <th>rides_total</th>\n",
       "      <th>subscription_type</th>\n",
       "      <th>minute_price</th>\n",
       "      <th>start_ride_price</th>\n",
       "      <th>subscription_fee</th>\n",
       "      <th>revenue</th>\n",
       "    </tr>\n",
       "  </thead>\n",
       "  <tbody>\n",
       "    <tr>\n",
       "      <th>0</th>\n",
       "      <td>7027.511294</td>\n",
       "      <td>42.0</td>\n",
       "      <td>2</td>\n",
       "      <td>ultra</td>\n",
       "      <td>6</td>\n",
       "      <td>0</td>\n",
       "      <td>199</td>\n",
       "      <td>451.0</td>\n",
       "    </tr>\n",
       "    <tr>\n",
       "      <th>1</th>\n",
       "      <td>754.159807</td>\n",
       "      <td>7.0</td>\n",
       "      <td>1</td>\n",
       "      <td>ultra</td>\n",
       "      <td>6</td>\n",
       "      <td>0</td>\n",
       "      <td>199</td>\n",
       "      <td>241.0</td>\n",
       "    </tr>\n",
       "    <tr>\n",
       "      <th>2</th>\n",
       "      <td>6723.470560</td>\n",
       "      <td>46.0</td>\n",
       "      <td>2</td>\n",
       "      <td>ultra</td>\n",
       "      <td>6</td>\n",
       "      <td>0</td>\n",
       "      <td>199</td>\n",
       "      <td>475.0</td>\n",
       "    </tr>\n",
       "    <tr>\n",
       "      <th>3</th>\n",
       "      <td>5809.911100</td>\n",
       "      <td>32.0</td>\n",
       "      <td>2</td>\n",
       "      <td>ultra</td>\n",
       "      <td>6</td>\n",
       "      <td>0</td>\n",
       "      <td>199</td>\n",
       "      <td>391.0</td>\n",
       "    </tr>\n",
       "    <tr>\n",
       "      <th>4</th>\n",
       "      <td>7003.499363</td>\n",
       "      <td>56.0</td>\n",
       "      <td>3</td>\n",
       "      <td>ultra</td>\n",
       "      <td>6</td>\n",
       "      <td>0</td>\n",
       "      <td>199</td>\n",
       "      <td>535.0</td>\n",
       "    </tr>\n",
       "    <tr>\n",
       "      <th>...</th>\n",
       "      <td>...</td>\n",
       "      <td>...</td>\n",
       "      <td>...</td>\n",
       "      <td>...</td>\n",
       "      <td>...</td>\n",
       "      <td>...</td>\n",
       "      <td>...</td>\n",
       "      <td>...</td>\n",
       "    </tr>\n",
       "    <tr>\n",
       "      <th>11326</th>\n",
       "      <td>3409.468534</td>\n",
       "      <td>26.0</td>\n",
       "      <td>2</td>\n",
       "      <td>free</td>\n",
       "      <td>8</td>\n",
       "      <td>50</td>\n",
       "      <td>0</td>\n",
       "      <td>308.0</td>\n",
       "    </tr>\n",
       "    <tr>\n",
       "      <th>11327</th>\n",
       "      <td>7622.453034</td>\n",
       "      <td>48.0</td>\n",
       "      <td>2</td>\n",
       "      <td>free</td>\n",
       "      <td>8</td>\n",
       "      <td>50</td>\n",
       "      <td>0</td>\n",
       "      <td>484.0</td>\n",
       "    </tr>\n",
       "    <tr>\n",
       "      <th>11328</th>\n",
       "      <td>4928.173852</td>\n",
       "      <td>23.0</td>\n",
       "      <td>1</td>\n",
       "      <td>free</td>\n",
       "      <td>8</td>\n",
       "      <td>50</td>\n",
       "      <td>0</td>\n",
       "      <td>234.0</td>\n",
       "    </tr>\n",
       "    <tr>\n",
       "      <th>11329</th>\n",
       "      <td>13350.015305</td>\n",
       "      <td>78.0</td>\n",
       "      <td>4</td>\n",
       "      <td>free</td>\n",
       "      <td>8</td>\n",
       "      <td>50</td>\n",
       "      <td>0</td>\n",
       "      <td>824.0</td>\n",
       "    </tr>\n",
       "    <tr>\n",
       "      <th>11330</th>\n",
       "      <td>2371.711192</td>\n",
       "      <td>16.0</td>\n",
       "      <td>1</td>\n",
       "      <td>free</td>\n",
       "      <td>8</td>\n",
       "      <td>50</td>\n",
       "      <td>0</td>\n",
       "      <td>178.0</td>\n",
       "    </tr>\n",
       "  </tbody>\n",
       "</table>\n",
       "<p>11331 rows × 8 columns</p>\n",
       "</div>"
      ],
      "text/plain": [
       "       distance_total  duration_total  rides_total subscription_type  \\\n",
       "0         7027.511294            42.0            2             ultra   \n",
       "1          754.159807             7.0            1             ultra   \n",
       "2         6723.470560            46.0            2             ultra   \n",
       "3         5809.911100            32.0            2             ultra   \n",
       "4         7003.499363            56.0            3             ultra   \n",
       "...               ...             ...          ...               ...   \n",
       "11326     3409.468534            26.0            2              free   \n",
       "11327     7622.453034            48.0            2              free   \n",
       "11328     4928.173852            23.0            1              free   \n",
       "11329    13350.015305            78.0            4              free   \n",
       "11330     2371.711192            16.0            1              free   \n",
       "\n",
       "       minute_price  start_ride_price  subscription_fee  revenue  \n",
       "0                 6                 0               199    451.0  \n",
       "1                 6                 0               199    241.0  \n",
       "2                 6                 0               199    475.0  \n",
       "3                 6                 0               199    391.0  \n",
       "4                 6                 0               199    535.0  \n",
       "...             ...               ...               ...      ...  \n",
       "11326             8                50                 0    308.0  \n",
       "11327             8                50                 0    484.0  \n",
       "11328             8                50                 0    234.0  \n",
       "11329             8                50                 0    824.0  \n",
       "11330             8                50                 0    178.0  \n",
       "\n",
       "[11331 rows x 8 columns]"
      ]
     },
     "execution_count": 54,
     "metadata": {},
     "output_type": "execute_result"
    }
   ],
   "source": [
    "def calculate_revenue(row):\n",
    "    return row['duration_total'] * row[\"minute_price\"] + row[\"rides_total\"] * row[\"start_ride_price\"] + row[\"subscription_fee\"]\n",
    "\n",
    "df_pivot_merged[\"revenue\"] = df_pivot_merged.apply(calculate_revenue, axis=1)\n",
    "df_pivot_merged"
   ]
  },
  {
   "cell_type": "markdown",
   "id": "41545ac0",
   "metadata": {},
   "source": [
    "#### Шаг 6. Проверка гипотез"
   ]
  },
  {
   "cell_type": "markdown",
   "id": "41066584",
   "metadata": {},
   "source": [
    "Важно понять, тратят ли пользователи с подпиской больше времени на поездки? Если да, то пользователи с подпиской могут быть «выгоднее» для компании. Проверим гипотезу. Используем исходные данные о продолжительности каждой сессии — отдельно для подписчиков и тех, у кого нет подписки.\n",
    "\n",
    "Нулевая гипотеза: среднее время, потраченное на поездки пользователями с подпиской, равно среднему времени, потраченному на поездки пользователями без подписки.\n",
    "\n",
    "Альтернативная гипотеза: среднее время, потраченное на поездки пользователями с подпиской, больше среднего времени, потраченного на поездки пользователями без подписки."
   ]
  },
  {
   "cell_type": "code",
   "execution_count": 38,
   "id": "46ad175a",
   "metadata": {},
   "outputs": [
    {
     "name": "stdout",
     "output_type": "stream",
     "text": [
      "p-значение: 1.2804098316645618e-34\n",
      "Отвергаем нулевую гипотезу\n"
     ]
    }
   ],
   "source": [
    "\n",
    "alpha = 0.05\n",
    "\n",
    "results = st.ttest_ind(df_with_subscription[\"duration\"], df_no_subscription[\"duration\"], alternative='greater')\n",
    "\n",
    "print('p-значение:', results.pvalue)\n",
    "\n",
    "if results.pvalue < alpha:\n",
    "    print('Отвергаем нулевую гипотезу')\n",
    "else:\n",
    "    print('Не получилось отвергнуть нулевую гипотезу')"
   ]
  },
  {
   "cell_type": "code",
   "execution_count": 39,
   "id": "25899198",
   "metadata": {},
   "outputs": [
    {
     "name": "stdout",
     "output_type": "stream",
     "text": [
      "18.54198516280583\n",
      "17.39090929866399\n"
     ]
    }
   ],
   "source": [
    "#Сравним средние по простому на всякий случай\n",
    "print(df_with_subscription[\"duration\"].mean())\n",
    "print(df_no_subscription[\"duration\"].mean())"
   ]
  },
  {
   "cell_type": "markdown",
   "id": "4e503c83",
   "metadata": {},
   "source": [
    "*Вывод*\n",
    "\n",
    "Всё указывает на то, что пользователи с подпиской в среднем тратят больше времени на поездки. Значит, имеет смысл стимулировать людей приобретать подписку."
   ]
  },
  {
   "cell_type": "markdown",
   "id": "9c2ccd87",
   "metadata": {},
   "source": [
    "Расстояние одной поездки в 3130 метров — оптимальное с точки зрения износа самоката. Можно ли сказать, что среднее расстояние, которое проезжают пользователи с подпиской за одну поездку, не превышает 3130 метров? Проверим гипотезу:\n",
    "\n",
    "Нулевая гипотеза: среднее расстояние, которое проезжают пользователи с подпиской за одну поездку, равно 3130 метрам.\n",
    "\n",
    "Альнарнативная гипотеза: среднее расстояние, которое проезжают пользователи с подпиской за одну поездку, больше 3130 метров."
   ]
  },
  {
   "cell_type": "code",
   "execution_count": 40,
   "id": "d900c974",
   "metadata": {},
   "outputs": [
    {
     "name": "stdout",
     "output_type": "stream",
     "text": [
      "p-значение: 0.9195368847849785\n",
      "Не получилось отвергнуть нулевую гипотезу\n"
     ]
    }
   ],
   "source": [
    "optimal_value = 3130\n",
    "\n",
    "alpha = 0.05\n",
    "\n",
    "results = st.ttest_1samp(\n",
    "    df_with_subscription[\"distance\"], \n",
    "    optimal_value, alternative='greater')\n",
    "\n",
    "print('p-значение:', results.pvalue)\n",
    "\n",
    "if results.pvalue < alpha:\n",
    "    print('Отвергаем нулевую гипотезу')\n",
    "else:\n",
    "    print('Не получилось отвергнуть нулевую гипотезу')\n"
   ]
  },
  {
   "cell_type": "code",
   "execution_count": 41,
   "id": "cec6c268",
   "metadata": {},
   "outputs": [
    {
     "data": {
      "text/plain": [
       "3115.4453880370247"
      ]
     },
     "execution_count": 41,
     "metadata": {},
     "output_type": "execute_result"
    }
   ],
   "source": [
    "#Проверим\n",
    "df_with_subscription[\"distance\"].mean()"
   ]
  },
  {
   "cell_type": "markdown",
   "id": "c080bd42",
   "metadata": {},
   "source": [
    "*Вывод*\n",
    "\n",
    "Всё указывает на то, что среднее расстояние, которое проезжают пользователи с подпиской за одну поездку, меньше 3130 метров.\n",
    "\n",
    "Для бизнеса это выгоднее, так как самокаты меньше будут ломаться.  Еще один аргемент к тому, что стоит стимудировать использование самокатов для передвижений на короткие расстояния (поставить больше станций возле остановок общественного транспорта)"
   ]
  },
  {
   "cell_type": "markdown",
   "id": "246aefd9",
   "metadata": {},
   "source": [
    "Проверим гипотезу о том, будет ли помесячная выручка от пользователей с подпиской по месяцам выше, чем выручка от пользователей без подписки.\n",
    "\n",
    "Нулевая гипотеза: помесячная выручка от пользователей с подпиской по месяцам будет равна выручке от пользователей без подписки\n",
    "\n",
    "Альтернативная гипотеза: помесячная выручка от пользователей с подпиской по месяцам будет выше, чем выручка от пользователей без подписки."
   ]
  },
  {
   "cell_type": "code",
   "execution_count": 42,
   "id": "176d71f8",
   "metadata": {},
   "outputs": [
    {
     "name": "stdout",
     "output_type": "stream",
     "text": [
      "p-value: 1.8850394384715216e-31\n",
      "Отвергаем нулевую гипотезу\n"
     ]
    }
   ],
   "source": [
    "#создадим вспомогательные датафремйы\n",
    "df_with_subscription_revenue = df_pivot_merged[df_pivot_merged[\"subscription_type\"] == \"ultra\"]\n",
    "df_no_subscription_revenue = df_pivot_merged[df_pivot_merged[\"subscription_type\"] == \"free\"]\n",
    "\n",
    "alpha = 0.05\n",
    "\n",
    "results = st.ttest_ind(df_with_subscription_revenue[\"revenue\"], df_no_subscription_revenue[\"revenue\"], alternative='greater')\n",
    "\n",
    "print(f'p-value: {results.pvalue}')\n",
    "\n",
    "# проверяем p-value\n",
    "if results.pvalue < alpha:\n",
    "    print('Отвергаем нулевую гипотезу')\n",
    "else:\n",
    "    print('Нет оснований отвергнуть нулевую гипотезу')\n",
    "\n"
   ]
  },
  {
   "cell_type": "code",
   "execution_count": 43,
   "id": "ecac1d06",
   "metadata": {},
   "outputs": [
    {
     "name": "stdout",
     "output_type": "stream",
     "text": [
      "362.7921906022502\n",
      "328.6413651073845\n"
     ]
    }
   ],
   "source": [
    "print(df_with_subscription_revenue[\"revenue\"].mean())\n",
    "print(df_no_subscription_revenue[\"revenue\"].mean())"
   ]
  },
  {
   "cell_type": "markdown",
   "id": "c83e3eb3",
   "metadata": {},
   "source": [
    "*Вывод*\n",
    "\n",
    "Получается, что выручка от пользователей с подпиской будет выше, чем от пользователей без подписки. Ещё один аргумент в пользу того, что нужно стимулировать приобретение подписки."
   ]
  },
  {
   "cell_type": "markdown",
   "id": "61213c5e",
   "metadata": {},
   "source": [
    "#### Шаг 7. Распределения"
   ]
  },
  {
   "cell_type": "markdown",
   "id": "7455f9c7",
   "metadata": {},
   "source": [
    "7.1 Отделу маркетинга GoFast поставили задачу: нужно провести акцию с раздачей промокодов на один бесплатный месяц подписки, в рамках которой как минимум 100 существующих клиентов должны продлить эту подписку. То есть по завершении периода действия подписки пользователь может либо отказаться от неё, либо продлить, совершив соответствующий платёж. \n",
    "Эта акция уже проводилась ранее и по итогу выяснилось, что после бесплатного пробного периода подписку продлевают \n",
    "10% пользователей. Выясним, какое минимальное количество промокодов нужно разослать, чтобы вероятность не выполнить план была примерно 5%. Подберем параметры распределения, описывающего эту ситуацию, построим график распределения и сформулируем ответ на вопрос о количестве промокодов.\n",
    "\n",
    "Формулировка задачи:\n",
    "\n",
    "*Нужно найти количество испытаний n, в которых заложена вероятность успеха 0.1, и в 95% этих испытаний нужно добиться как минимум 100 успехов.*"
   ]
  },
  {
   "cell_type": "code",
   "execution_count": 44,
   "id": "5132e227",
   "metadata": {},
   "outputs": [
    {
     "name": "stdout",
     "output_type": "stream",
     "text": [
      "Вероятность получения более как минимум 100 успехов: 0.5154\n"
     ]
    },
    {
     "data": {
      "image/png": "[encoded data removed]",
      "text/plain": [
       "<Figure size 432x288 with 1 Axes>"
      ]
     },
     "metadata": {
      "needs_background": "light"
     },
     "output_type": "display_data"
    }
   ],
   "source": [
    "#Эту ситуацию описывает биномиальное распределение. Смоделируем его\n",
    "p = 1/10\n",
    "n = 1000\n",
    "\n",
    "distr = []\n",
    "\n",
    "for k in range(0, n + 1):\n",
    "    choose = factorial(n) / (factorial(k) * factorial(n-k))\n",
    "    prob = choose * p**k * (1 - p)**(n - k) \n",
    "    distr.append(prob)\n",
    "\n",
    "probability_more_than_100 = sum(distr[100:])\n",
    "    \n",
    "plt.bar(range(0, n + 1), distr);\n",
    "print(f\"Вероятность получения более как минимум 100 успехов: {probability_more_than_100:.4f}\")"
   ]
  },
  {
   "cell_type": "code",
   "execution_count": 45,
   "id": "a0f65b04",
   "metadata": {},
   "outputs": [
    {
     "name": "stdout",
     "output_type": "stream",
     "text": [
      "Минимальное количество испытаний: 1161\n"
     ]
    }
   ],
   "source": [
    "# 51% - очень мало. Так задача будет провалена, ведь нам нужно как минимум 95% увеленности в том, что как минимум 100 человек продлят подписку.\n",
    "#Количество промокодов должно вырасти. Подберем ниже оптимальный вариант.\n",
    "\n",
    "import scipy.stats as stats\n",
    "\n",
    "p_success = 0.1\n",
    "min_successes = 100\n",
    "minimum_level = 0.95\n",
    "\n",
    "n = 1000\n",
    "while True:\n",
    "    probability = 1 - stats.binom.cdf(min_successes - 1, n, p_success)\n",
    "    if probability >= minimum_level:\n",
    "        break\n",
    "    n += 1\n",
    "\n",
    "print(f\"Минимальное количество испытаний: {n}\")\n"
   ]
  },
  {
   "cell_type": "markdown",
   "id": "6cca66f3",
   "metadata": {},
   "source": [
    "Отдел маркетинга рассылает клиентам push-уведомления в мобильном приложении. Клиенты могут открыть его или не открывать. Известно, что уведомления открывают около 40% получивших клиентов. Отдел планирует разослать 1 млн уведомлений. С помощью аппроксимации построим примерный график распределения и оценим вероятность того, что уведомление откроют не более 399,5 тыс. пользователей.\n"
   ]
  },
  {
   "cell_type": "code",
   "execution_count": 46,
   "id": "076b5274",
   "metadata": {},
   "outputs": [
    {
     "name": "stdout",
     "output_type": "stream",
     "text": [
      "Вероятность того, что уведомление откроют не более 399,5 тыс. пользователей: 0.15371708296369768\n"
     ]
    }
   ],
   "source": [
    "#Заменим это биномиальное рапределение нормальным, так как вероятность довольно большая\n",
    "from math import sqrt\n",
    "from scipy import stats as st\n",
    "\n",
    "# задаём параметры биномиального распределения\n",
    "n = 1000000\n",
    "p = 0.4\n",
    "\n",
    "# задаём параметры нормального распределения равными\n",
    "# мат.ожиданию и дисперсии биномиального распределения\n",
    "mu = n * p\n",
    "sigma = sqrt(n * p * (1 - p))\n",
    "\n",
    "# задаём нормальное распределение\n",
    "distr = st.norm(mu, sigma) \n",
    "\n",
    "# считаем вероятность хвоста слева от 399 500\n",
    "result = distr.cdf(399500)\n",
    "print(\"Вероятность того, что уведомление откроют не более 399,5 тыс. пользователей:\", result)"
   ]
  },
  {
   "cell_type": "markdown",
   "id": "0a6cd128",
   "metadata": {},
   "source": [
    "**Общий вывод**\n",
    "\n",
    "Для анализа были получены 3 датасета: с информацией о пользователях, подписках и типах подписок на сервис аренды самокатов GoFast.\n",
    "В результате предобработки были удалены дубликаты и изменен тип столбца с датами на datetime64.\n",
    "\n",
    "После проведения исследовательского анализа данных стало понятно, что:\n",
    "\n",
    "- Больше всего пользователей в Пятигорске (219) и меньше всего в Москве (168), а всего городов, где используется сервис, 8: Тюмень, Омск, Москва, Ростов-на-Дону, Краснодар, Пятигорск, Екатеринбург, Сочи.\n",
    "\n",
    "- Пользователей с подпиской больше, чем без подписки: 835 с подпиской, 699 без подписки.\n",
    "\n",
    "- Больше всего клиентов в возрасте от 20 до 30 лет. Меньше всего самых взрослых и самых молодых: до 15 и от 37 до 43.\n",
    "\n",
    "- Аномалий среди данных о расстоянии и продолжительности нет.\n",
    "\n",
    "После проведения анализа можно сделать вывод, что:\n",
    "\n",
    "- что пользователи с подпиской в среднем тратят больше времени на поездки: 18.54 VS 17.39 минут.\n",
    "\n",
    "-  среднее расстояние, которое проезжают пользователи с подпиской за одну поездку, меньше 3130 метров. В частности, около 3115 метров.\n",
    "\n",
    "- помесячная выручка от пользователей с подпиской будет выше (около 363 рублей), чем от пользователей без подписки (около 329 рублей).\n",
    "\n",
    "\n",
    "После анализа распределений, можно сказать, что чтобы как минимум 100 человек оформило платную подписку после использования промокода, а это происходит с вероятностью в 10%, нужно выслать как минимум 1161 промокод.\n",
    "\n",
    "А также, если разослать клиентам 1 млн уведомлений, и уже известно, что только 40% их откроет, то вероятность того, что уведомление откроют не более 399,5 тыс. пользователей, составляет 15%.\n",
    "\n",
    "Также можно порекомендовать бизнесу стимулировать приобретение пользователями подписок, сосредоточиться на пользователях от 20 до 30 лет и что можно рассмотреть добавление станций рядом с остановками общественного транспорта."
   ]
  },
  {
   "cell_type": "code",
   "execution_count": null,
   "id": "01d7ca80",
   "metadata": {},
   "outputs": [],
   "source": []
  }
 ],
 "metadata": {
  "ExecuteTimeLog": [
   {
    "duration": 411,
    "start_time": "2023-10-18T17:05:30.537Z"
   },
   {
    "duration": 203,
    "start_time": "2023-10-18T17:05:33.086Z"
   },
   {
    "duration": 77,
    "start_time": "2023-10-18T17:06:09.209Z"
   },
   {
    "duration": 11,
    "start_time": "2023-10-18T17:06:37.116Z"
   },
   {
    "duration": 13,
    "start_time": "2023-10-18T17:07:24.629Z"
   },
   {
    "duration": 15,
    "start_time": "2023-10-18T17:08:02.331Z"
   },
   {
    "duration": 13,
    "start_time": "2023-10-18T17:08:05.849Z"
   },
   {
    "duration": 7,
    "start_time": "2023-10-18T17:11:42.068Z"
   },
   {
    "duration": 11,
    "start_time": "2023-10-18T17:11:57.367Z"
   },
   {
    "duration": 17,
    "start_time": "2023-10-18T17:14:35.014Z"
   },
   {
    "duration": 17,
    "start_time": "2023-10-18T17:26:42.562Z"
   },
   {
    "duration": 5,
    "start_time": "2023-10-18T17:26:58.867Z"
   },
   {
    "duration": 3,
    "start_time": "2023-10-18T17:29:51.964Z"
   },
   {
    "duration": 15,
    "start_time": "2023-10-18T17:29:54.022Z"
   },
   {
    "duration": 11,
    "start_time": "2023-10-18T17:29:59.864Z"
   },
   {
    "duration": 18,
    "start_time": "2023-10-18T17:30:09.665Z"
   },
   {
    "duration": 14,
    "start_time": "2023-10-18T17:43:57.644Z"
   },
   {
    "duration": 78,
    "start_time": "2023-10-18T17:51:55.909Z"
   },
   {
    "duration": 5,
    "start_time": "2023-10-18T17:52:48.118Z"
   },
   {
    "duration": 4,
    "start_time": "2023-10-18T17:53:06.317Z"
   },
   {
    "duration": 18,
    "start_time": "2023-10-18T17:54:02.803Z"
   },
   {
    "duration": 6,
    "start_time": "2023-10-18T17:54:44.068Z"
   },
   {
    "duration": 65,
    "start_time": "2023-10-18T19:14:12.100Z"
   },
   {
    "duration": 15,
    "start_time": "2023-10-18T19:14:27.016Z"
   },
   {
    "duration": 7,
    "start_time": "2023-10-18T19:15:09.093Z"
   },
   {
    "duration": 11,
    "start_time": "2023-10-18T19:15:59.415Z"
   },
   {
    "duration": 10,
    "start_time": "2023-10-18T19:16:19.562Z"
   },
   {
    "duration": 5,
    "start_time": "2023-10-18T19:17:48.727Z"
   },
   {
    "duration": 29,
    "start_time": "2023-10-18T19:18:29.454Z"
   },
   {
    "duration": 6,
    "start_time": "2023-10-18T19:18:44.941Z"
   },
   {
    "duration": 9,
    "start_time": "2023-10-18T19:19:23.297Z"
   },
   {
    "duration": 7,
    "start_time": "2023-10-18T19:25:06.647Z"
   },
   {
    "duration": 11,
    "start_time": "2023-10-18T19:25:14.969Z"
   },
   {
    "duration": 926,
    "start_time": "2023-10-18T19:28:03.180Z"
   },
   {
    "duration": 217,
    "start_time": "2023-10-18T19:28:13.428Z"
   },
   {
    "duration": 127,
    "start_time": "2023-10-18T19:28:35.434Z"
   },
   {
    "duration": 769,
    "start_time": "2023-10-18T19:31:21.776Z"
   },
   {
    "duration": 10,
    "start_time": "2023-10-18T19:49:24.831Z"
   },
   {
    "duration": 12,
    "start_time": "2023-10-18T19:49:45.212Z"
   },
   {
    "duration": 9,
    "start_time": "2023-10-18T19:51:16.573Z"
   },
   {
    "duration": 22,
    "start_time": "2023-10-18T19:51:40.716Z"
   },
   {
    "duration": 571,
    "start_time": "2023-10-18T19:55:56.877Z"
   },
   {
    "duration": 294,
    "start_time": "2023-10-18T19:56:27.116Z"
   },
   {
    "duration": 29,
    "start_time": "2023-10-18T19:56:56.843Z"
   },
   {
    "duration": 134,
    "start_time": "2023-10-18T19:59:06.930Z"
   },
   {
    "duration": 400,
    "start_time": "2023-10-18T20:01:59.471Z"
   },
   {
    "duration": 330,
    "start_time": "2023-10-18T20:02:17.747Z"
   },
   {
    "duration": 1332,
    "start_time": "2023-10-18T20:03:06.510Z"
   },
   {
    "duration": 895,
    "start_time": "2023-10-18T20:03:55.448Z"
   },
   {
    "duration": 481,
    "start_time": "2023-10-18T20:04:59.244Z"
   },
   {
    "duration": 463,
    "start_time": "2023-10-18T20:06:09.304Z"
   },
   {
    "duration": 291,
    "start_time": "2023-10-18T20:06:32.883Z"
   },
   {
    "duration": 373,
    "start_time": "2023-10-18T20:07:33.283Z"
   },
   {
    "duration": 962,
    "start_time": "2023-10-18T20:07:46.140Z"
   },
   {
    "duration": 285,
    "start_time": "2023-10-18T20:09:48.265Z"
   },
   {
    "duration": 151,
    "start_time": "2023-10-18T20:13:01.431Z"
   },
   {
    "duration": 334,
    "start_time": "2023-10-18T20:14:26.224Z"
   },
   {
    "duration": 138,
    "start_time": "2023-10-18T20:32:10.433Z"
   },
   {
    "duration": 6,
    "start_time": "2023-10-18T20:32:34.277Z"
   },
   {
    "duration": 6,
    "start_time": "2023-10-18T20:32:47.316Z"
   },
   {
    "duration": 123,
    "start_time": "2023-10-18T20:33:06.563Z"
   },
   {
    "duration": 177,
    "start_time": "2023-10-18T20:33:16.332Z"
   },
   {
    "duration": 8,
    "start_time": "2023-10-18T20:33:57.204Z"
   },
   {
    "duration": 8,
    "start_time": "2023-10-18T20:34:04.681Z"
   },
   {
    "duration": 10,
    "start_time": "2023-10-18T20:34:09.168Z"
   },
   {
    "duration": 8,
    "start_time": "2023-10-18T20:34:16.064Z"
   },
   {
    "duration": 9,
    "start_time": "2023-10-18T20:34:18.926Z"
   },
   {
    "duration": 7,
    "start_time": "2023-10-18T20:34:35.001Z"
   },
   {
    "duration": 221,
    "start_time": "2023-10-18T20:35:03.523Z"
   },
   {
    "duration": 275,
    "start_time": "2023-10-18T20:35:52.404Z"
   },
   {
    "duration": 118,
    "start_time": "2023-10-18T20:36:00.502Z"
   },
   {
    "duration": 256,
    "start_time": "2023-10-18T20:36:20.209Z"
   },
   {
    "duration": 373,
    "start_time": "2023-10-18T20:36:26.245Z"
   },
   {
    "duration": 98,
    "start_time": "2023-10-18T20:36:34.343Z"
   },
   {
    "duration": 233,
    "start_time": "2023-10-18T20:36:43.841Z"
   },
   {
    "duration": 636,
    "start_time": "2023-10-18T20:37:59.626Z"
   },
   {
    "duration": 136,
    "start_time": "2023-10-18T20:42:22.661Z"
   },
   {
    "duration": 122,
    "start_time": "2023-10-18T20:43:11.022Z"
   },
   {
    "duration": 142,
    "start_time": "2023-10-18T20:43:57.355Z"
   },
   {
    "duration": 123,
    "start_time": "2023-10-18T20:44:05.680Z"
   },
   {
    "duration": 17,
    "start_time": "2023-10-18T20:50:58.374Z"
   },
   {
    "duration": 153,
    "start_time": "2023-10-18T20:51:10.117Z"
   },
   {
    "duration": 140,
    "start_time": "2023-10-18T20:51:16.666Z"
   },
   {
    "duration": 131,
    "start_time": "2023-10-18T20:51:23.297Z"
   },
   {
    "duration": 242,
    "start_time": "2023-10-18T20:51:43.565Z"
   },
   {
    "duration": 133,
    "start_time": "2023-10-18T20:52:36.572Z"
   },
   {
    "duration": 92,
    "start_time": "2023-10-18T20:53:06.101Z"
   },
   {
    "duration": 136,
    "start_time": "2023-10-18T20:53:15.020Z"
   },
   {
    "duration": 13,
    "start_time": "2023-10-18T20:53:31.547Z"
   },
   {
    "duration": 148,
    "start_time": "2023-10-18T20:54:02.730Z"
   },
   {
    "duration": 138,
    "start_time": "2023-10-18T20:54:06.521Z"
   },
   {
    "duration": 143,
    "start_time": "2023-10-18T20:55:20.563Z"
   },
   {
    "duration": 11,
    "start_time": "2023-10-18T20:55:32.366Z"
   },
   {
    "duration": 174,
    "start_time": "2023-10-18T20:58:36.095Z"
   },
   {
    "duration": 5,
    "start_time": "2023-10-18T21:00:25.471Z"
   },
   {
    "duration": 3,
    "start_time": "2023-10-18T21:03:12.235Z"
   },
   {
    "duration": 5,
    "start_time": "2023-10-18T21:03:16.697Z"
   },
   {
    "duration": 7,
    "start_time": "2023-10-18T21:07:05.758Z"
   },
   {
    "duration": 31,
    "start_time": "2023-10-18T21:20:19.001Z"
   },
   {
    "duration": 25,
    "start_time": "2023-10-18T21:26:19.244Z"
   },
   {
    "duration": 17,
    "start_time": "2023-10-18T21:27:25.074Z"
   },
   {
    "duration": 25,
    "start_time": "2023-10-18T21:28:25.986Z"
   },
   {
    "duration": 14,
    "start_time": "2023-10-18T21:28:34.744Z"
   },
   {
    "duration": 1185,
    "start_time": "2023-10-18T21:30:05.863Z"
   },
   {
    "duration": 72,
    "start_time": "2023-10-18T21:30:07.050Z"
   },
   {
    "duration": 23,
    "start_time": "2023-10-18T21:30:07.124Z"
   },
   {
    "duration": 16,
    "start_time": "2023-10-18T21:30:07.149Z"
   },
   {
    "duration": 27,
    "start_time": "2023-10-18T21:30:07.168Z"
   },
   {
    "duration": 13,
    "start_time": "2023-10-18T21:30:07.196Z"
   },
   {
    "duration": 13,
    "start_time": "2023-10-18T21:30:07.210Z"
   },
   {
    "duration": 4,
    "start_time": "2023-10-18T21:30:07.224Z"
   },
   {
    "duration": 36,
    "start_time": "2023-10-18T21:30:07.230Z"
   },
   {
    "duration": 24,
    "start_time": "2023-10-18T21:30:07.267Z"
   },
   {
    "duration": 29,
    "start_time": "2023-10-18T21:30:07.293Z"
   },
   {
    "duration": 203,
    "start_time": "2023-10-18T21:30:07.325Z"
   },
   {
    "duration": 13,
    "start_time": "2023-10-18T21:30:07.529Z"
   },
   {
    "duration": 150,
    "start_time": "2023-10-18T21:30:07.545Z"
   },
   {
    "duration": 275,
    "start_time": "2023-10-18T21:30:07.697Z"
   },
   {
    "duration": 597,
    "start_time": "2023-10-18T21:30:07.974Z"
   },
   {
    "duration": 6,
    "start_time": "2023-10-18T21:30:08.573Z"
   },
   {
    "duration": 162,
    "start_time": "2023-10-18T21:30:08.580Z"
   },
   {
    "duration": 109,
    "start_time": "2023-10-18T21:30:08.744Z"
   },
   {
    "duration": 0,
    "start_time": "2023-10-18T21:30:08.855Z"
   },
   {
    "duration": 0,
    "start_time": "2023-10-18T21:30:08.856Z"
   },
   {
    "duration": 42,
    "start_time": "2023-10-18T21:30:39.462Z"
   },
   {
    "duration": 26,
    "start_time": "2023-10-18T21:30:44.333Z"
   },
   {
    "duration": 17,
    "start_time": "2023-10-18T21:31:05.503Z"
   },
   {
    "duration": 15,
    "start_time": "2023-10-18T21:31:24.041Z"
   },
   {
    "duration": 1212,
    "start_time": "2023-10-18T21:32:03.687Z"
   },
   {
    "duration": 69,
    "start_time": "2023-10-18T21:32:06.187Z"
   },
   {
    "duration": 11,
    "start_time": "2023-10-18T21:32:19.571Z"
   },
   {
    "duration": 13,
    "start_time": "2023-10-18T21:32:32.129Z"
   },
   {
    "duration": 11,
    "start_time": "2023-10-18T21:32:48.158Z"
   },
   {
    "duration": 5,
    "start_time": "2023-10-18T21:32:58.201Z"
   },
   {
    "duration": 8,
    "start_time": "2023-10-18T21:33:04.684Z"
   },
   {
    "duration": 16,
    "start_time": "2023-10-18T21:33:23.266Z"
   },
   {
    "duration": 8,
    "start_time": "2023-10-18T21:33:32.070Z"
   },
   {
    "duration": 11,
    "start_time": "2023-10-18T21:33:38.499Z"
   },
   {
    "duration": 9,
    "start_time": "2023-10-18T21:33:57.216Z"
   },
   {
    "duration": 11,
    "start_time": "2023-10-18T21:33:59.145Z"
   },
   {
    "duration": 6,
    "start_time": "2023-10-18T21:34:12.376Z"
   },
   {
    "duration": 9,
    "start_time": "2023-10-18T21:34:14.047Z"
   },
   {
    "duration": 10,
    "start_time": "2023-10-18T21:34:17.958Z"
   },
   {
    "duration": 11,
    "start_time": "2023-10-18T21:34:19.915Z"
   },
   {
    "duration": 15,
    "start_time": "2023-10-18T21:34:34.969Z"
   },
   {
    "duration": 10,
    "start_time": "2023-10-18T21:34:37.228Z"
   },
   {
    "duration": 11,
    "start_time": "2023-10-18T21:34:38.666Z"
   },
   {
    "duration": 4,
    "start_time": "2023-10-18T21:34:46.610Z"
   },
   {
    "duration": 87,
    "start_time": "2023-10-18T21:34:46.616Z"
   },
   {
    "duration": 8,
    "start_time": "2023-10-18T21:34:46.704Z"
   },
   {
    "duration": 22,
    "start_time": "2023-10-18T21:34:46.714Z"
   },
   {
    "duration": 12,
    "start_time": "2023-10-18T21:34:46.738Z"
   },
   {
    "duration": 37,
    "start_time": "2023-10-18T21:34:46.752Z"
   },
   {
    "duration": 7,
    "start_time": "2023-10-18T21:34:46.790Z"
   },
   {
    "duration": 17,
    "start_time": "2023-10-18T21:34:46.798Z"
   },
   {
    "duration": 32,
    "start_time": "2023-10-18T21:34:46.817Z"
   },
   {
    "duration": 42,
    "start_time": "2023-10-18T21:34:46.851Z"
   },
   {
    "duration": 27,
    "start_time": "2023-10-18T21:34:46.895Z"
   },
   {
    "duration": 8,
    "start_time": "2023-10-18T21:34:46.924Z"
   },
   {
    "duration": 20,
    "start_time": "2023-10-18T21:34:46.933Z"
   },
   {
    "duration": 181,
    "start_time": "2023-10-18T21:34:46.954Z"
   },
   {
    "duration": 13,
    "start_time": "2023-10-18T21:34:47.136Z"
   },
   {
    "duration": 168,
    "start_time": "2023-10-18T21:34:47.150Z"
   },
   {
    "duration": 243,
    "start_time": "2023-10-18T21:34:47.319Z"
   },
   {
    "duration": 560,
    "start_time": "2023-10-18T21:34:47.564Z"
   },
   {
    "duration": 6,
    "start_time": "2023-10-18T21:34:48.126Z"
   },
   {
    "duration": 161,
    "start_time": "2023-10-18T21:34:48.134Z"
   },
   {
    "duration": 30,
    "start_time": "2023-10-18T21:34:54.340Z"
   },
   {
    "duration": 13,
    "start_time": "2023-10-18T21:35:05.205Z"
   },
   {
    "duration": 12,
    "start_time": "2023-10-18T21:35:25.613Z"
   },
   {
    "duration": 12,
    "start_time": "2023-10-18T21:35:28.264Z"
   },
   {
    "duration": 13,
    "start_time": "2023-10-18T21:35:56.245Z"
   },
   {
    "duration": 14,
    "start_time": "2023-10-18T21:36:03.789Z"
   },
   {
    "duration": 16,
    "start_time": "2023-10-18T21:36:24.475Z"
   },
   {
    "duration": 13,
    "start_time": "2023-10-18T21:36:37.703Z"
   },
   {
    "duration": 1717,
    "start_time": "2023-10-18T21:38:05.272Z"
   },
   {
    "duration": 9,
    "start_time": "2023-10-18T21:39:14.540Z"
   },
   {
    "duration": 13,
    "start_time": "2023-10-18T21:39:20.057Z"
   },
   {
    "duration": 12,
    "start_time": "2023-10-18T21:39:25.587Z"
   },
   {
    "duration": 841,
    "start_time": "2023-10-18T21:39:40.333Z"
   },
   {
    "duration": 587,
    "start_time": "2023-10-18T21:40:15.035Z"
   },
   {
    "duration": 14,
    "start_time": "2023-10-18T21:42:08.200Z"
   },
   {
    "duration": 8,
    "start_time": "2023-10-18T21:42:19.495Z"
   },
   {
    "duration": 106,
    "start_time": "2023-10-18T22:02:26.367Z"
   },
   {
    "duration": 23,
    "start_time": "2023-10-18T22:04:24.909Z"
   },
   {
    "duration": 642,
    "start_time": "2023-10-18T22:24:06.501Z"
   },
   {
    "duration": 459,
    "start_time": "2023-10-18T22:25:27.408Z"
   },
   {
    "duration": 643,
    "start_time": "2023-10-18T22:26:52.046Z"
   },
   {
    "duration": 311,
    "start_time": "2023-10-18T22:27:15.121Z"
   },
   {
    "duration": 282,
    "start_time": "2023-10-18T22:29:02.214Z"
   },
   {
    "duration": 251,
    "start_time": "2023-10-18T22:29:10.340Z"
   },
   {
    "duration": 356,
    "start_time": "2023-10-18T22:29:16.019Z"
   },
   {
    "duration": 463,
    "start_time": "2023-10-18T22:29:33.168Z"
   },
   {
    "duration": 393,
    "start_time": "2023-10-18T22:30:25.800Z"
   },
   {
    "duration": 358,
    "start_time": "2023-10-18T22:30:39.913Z"
   },
   {
    "duration": 324,
    "start_time": "2023-10-18T22:32:22.353Z"
   },
   {
    "duration": 423,
    "start_time": "2023-10-18T22:33:16.760Z"
   },
   {
    "duration": 259,
    "start_time": "2023-10-18T22:34:00.102Z"
   },
   {
    "duration": 173,
    "start_time": "2023-10-18T22:35:25.607Z"
   },
   {
    "duration": 172,
    "start_time": "2023-10-18T22:36:38.297Z"
   },
   {
    "duration": 71,
    "start_time": "2023-10-18T22:45:03.264Z"
   },
   {
    "duration": 29,
    "start_time": "2023-10-18T22:51:00.382Z"
   },
   {
    "duration": 1587,
    "start_time": "2023-10-18T22:51:48.793Z"
   },
   {
    "duration": 26,
    "start_time": "2023-10-18T22:52:00.602Z"
   },
   {
    "duration": 35,
    "start_time": "2023-10-18T22:52:26.888Z"
   },
   {
    "duration": 449,
    "start_time": "2023-10-18T23:06:07.201Z"
   },
   {
    "duration": 21,
    "start_time": "2023-10-18T23:08:58.080Z"
   },
   {
    "duration": 14,
    "start_time": "2023-10-18T23:12:46.373Z"
   },
   {
    "duration": 52,
    "start_time": "2023-10-18T23:13:38.438Z"
   },
   {
    "duration": 27,
    "start_time": "2023-10-18T23:15:30.183Z"
   },
   {
    "duration": 27,
    "start_time": "2023-10-18T23:22:19.129Z"
   },
   {
    "duration": 23,
    "start_time": "2023-10-18T23:24:05.350Z"
   },
   {
    "duration": 23,
    "start_time": "2023-10-18T23:24:28.213Z"
   },
   {
    "duration": 121,
    "start_time": "2023-10-18T23:25:43.881Z"
   },
   {
    "duration": 17,
    "start_time": "2023-10-18T23:25:49.295Z"
   },
   {
    "duration": 27,
    "start_time": "2023-10-18T23:26:12.185Z"
   },
   {
    "duration": 15,
    "start_time": "2023-10-18T23:26:26.712Z"
   },
   {
    "duration": 23,
    "start_time": "2023-10-18T23:27:04.871Z"
   },
   {
    "duration": 26,
    "start_time": "2023-10-18T23:27:10.634Z"
   },
   {
    "duration": 30,
    "start_time": "2023-10-18T23:28:48.153Z"
   },
   {
    "duration": 145,
    "start_time": "2023-10-18T23:30:48.011Z"
   },
   {
    "duration": 23,
    "start_time": "2023-10-18T23:34:31.433Z"
   },
   {
    "duration": 25,
    "start_time": "2023-10-18T23:35:27.699Z"
   },
   {
    "duration": 29,
    "start_time": "2023-10-18T23:38:15.646Z"
   },
   {
    "duration": 43,
    "start_time": "2023-10-18T23:38:20.707Z"
   },
   {
    "duration": 28,
    "start_time": "2023-10-18T23:38:59.839Z"
   },
   {
    "duration": 28,
    "start_time": "2023-10-18T23:39:55.194Z"
   },
   {
    "duration": 1215,
    "start_time": "2023-10-18T23:41:05.700Z"
   },
   {
    "duration": 71,
    "start_time": "2023-10-18T23:41:06.917Z"
   },
   {
    "duration": 13,
    "start_time": "2023-10-18T23:41:06.990Z"
   },
   {
    "duration": 11,
    "start_time": "2023-10-18T23:41:07.004Z"
   },
   {
    "duration": 26,
    "start_time": "2023-10-18T23:41:07.018Z"
   },
   {
    "duration": 20,
    "start_time": "2023-10-18T23:41:07.046Z"
   },
   {
    "duration": 12,
    "start_time": "2023-10-18T23:41:07.068Z"
   },
   {
    "duration": 31,
    "start_time": "2023-10-18T23:41:07.082Z"
   },
   {
    "duration": 10,
    "start_time": "2023-10-18T23:41:07.114Z"
   },
   {
    "duration": 21,
    "start_time": "2023-10-18T23:41:07.125Z"
   },
   {
    "duration": 14,
    "start_time": "2023-10-18T23:41:07.147Z"
   },
   {
    "duration": 6,
    "start_time": "2023-10-18T23:41:07.163Z"
   },
   {
    "duration": 11,
    "start_time": "2023-10-18T23:41:07.171Z"
   },
   {
    "duration": 181,
    "start_time": "2023-10-18T23:41:07.206Z"
   },
   {
    "duration": 27,
    "start_time": "2023-10-18T23:41:07.389Z"
   },
   {
    "duration": 163,
    "start_time": "2023-10-18T23:41:07.418Z"
   },
   {
    "duration": 241,
    "start_time": "2023-10-18T23:41:07.583Z"
   },
   {
    "duration": 581,
    "start_time": "2023-10-18T23:41:07.826Z"
   },
   {
    "duration": 5,
    "start_time": "2023-10-18T23:41:08.408Z"
   },
   {
    "duration": 151,
    "start_time": "2023-10-18T23:41:08.415Z"
   },
   {
    "duration": 31,
    "start_time": "2023-10-18T23:41:08.567Z"
   },
   {
    "duration": 10,
    "start_time": "2023-10-18T23:41:08.607Z"
   },
   {
    "duration": 27,
    "start_time": "2023-10-18T23:41:08.619Z"
   },
   {
    "duration": 29,
    "start_time": "2023-10-18T23:41:08.647Z"
   },
   {
    "duration": 156,
    "start_time": "2023-10-18T23:41:08.678Z"
   },
   {
    "duration": 233,
    "start_time": "2023-10-18T23:41:08.835Z"
   },
   {
    "duration": 37,
    "start_time": "2023-10-18T23:41:09.070Z"
   },
   {
    "duration": 22,
    "start_time": "2023-10-18T23:41:48.524Z"
   },
   {
    "duration": 5825,
    "start_time": "2023-10-18T23:56:15.736Z"
   },
   {
    "duration": 3836,
    "start_time": "2023-10-18T23:58:02.818Z"
   },
   {
    "duration": 3609,
    "start_time": "2023-10-18T23:58:39.283Z"
   },
   {
    "duration": 4380,
    "start_time": "2023-10-19T00:16:08.338Z"
   },
   {
    "duration": 156,
    "start_time": "2023-10-19T01:05:25.164Z"
   },
   {
    "duration": 144,
    "start_time": "2023-10-19T01:07:36.074Z"
   },
   {
    "duration": 29,
    "start_time": "2023-10-19T01:09:54.134Z"
   },
   {
    "duration": 25,
    "start_time": "2023-10-19T01:11:08.711Z"
   },
   {
    "duration": 4306,
    "start_time": "2023-10-19T01:12:44.947Z"
   },
   {
    "duration": 148,
    "start_time": "2023-10-19T01:12:49.255Z"
   },
   {
    "duration": 26,
    "start_time": "2023-10-19T01:13:08.683Z"
   },
   {
    "duration": 4369,
    "start_time": "2023-10-19T01:13:18.344Z"
   },
   {
    "duration": 27,
    "start_time": "2023-10-19T01:13:39.483Z"
   },
   {
    "duration": 1074,
    "start_time": "2023-10-19T01:13:57.151Z"
   },
   {
    "duration": 70,
    "start_time": "2023-10-19T01:13:58.227Z"
   },
   {
    "duration": 12,
    "start_time": "2023-10-19T01:13:58.298Z"
   },
   {
    "duration": 11,
    "start_time": "2023-10-19T01:13:58.313Z"
   },
   {
    "duration": 11,
    "start_time": "2023-10-19T01:13:58.326Z"
   },
   {
    "duration": 11,
    "start_time": "2023-10-19T01:13:58.338Z"
   },
   {
    "duration": 6,
    "start_time": "2023-10-19T01:13:58.350Z"
   },
   {
    "duration": 10,
    "start_time": "2023-10-19T01:13:58.357Z"
   },
   {
    "duration": 28,
    "start_time": "2023-10-19T01:13:58.368Z"
   },
   {
    "duration": 16,
    "start_time": "2023-10-19T01:13:58.399Z"
   },
   {
    "duration": 15,
    "start_time": "2023-10-19T01:13:58.416Z"
   },
   {
    "duration": 7,
    "start_time": "2023-10-19T01:13:58.433Z"
   },
   {
    "duration": 13,
    "start_time": "2023-10-19T01:13:58.442Z"
   },
   {
    "duration": 180,
    "start_time": "2023-10-19T01:13:58.457Z"
   },
   {
    "duration": 11,
    "start_time": "2023-10-19T01:13:58.639Z"
   },
   {
    "duration": 142,
    "start_time": "2023-10-19T01:13:58.652Z"
   },
   {
    "duration": 237,
    "start_time": "2023-10-19T01:13:58.796Z"
   },
   {
    "duration": 561,
    "start_time": "2023-10-19T01:13:59.034Z"
   },
   {
    "duration": 12,
    "start_time": "2023-10-19T01:13:59.596Z"
   },
   {
    "duration": 154,
    "start_time": "2023-10-19T01:13:59.609Z"
   },
   {
    "duration": 30,
    "start_time": "2023-10-19T01:13:59.765Z"
   },
   {
    "duration": 16,
    "start_time": "2023-10-19T01:13:59.797Z"
   },
   {
    "duration": 26,
    "start_time": "2023-10-19T01:13:59.814Z"
   },
   {
    "duration": 19,
    "start_time": "2023-10-19T01:13:59.842Z"
   },
   {
    "duration": 163,
    "start_time": "2023-10-19T01:13:59.862Z"
   },
   {
    "duration": 249,
    "start_time": "2023-10-19T01:14:00.026Z"
   },
   {
    "duration": 39,
    "start_time": "2023-10-19T01:14:00.277Z"
   },
   {
    "duration": 4325,
    "start_time": "2023-10-19T01:14:00.319Z"
   },
   {
    "duration": 150,
    "start_time": "2023-10-19T01:14:04.645Z"
   },
   {
    "duration": 114,
    "start_time": "2023-10-19T01:14:04.797Z"
   },
   {
    "duration": 141,
    "start_time": "2023-10-19T01:16:08.338Z"
   },
   {
    "duration": 6,
    "start_time": "2023-10-19T01:24:53.983Z"
   },
   {
    "duration": 161,
    "start_time": "2023-10-19T01:25:49.706Z"
   },
   {
    "duration": 5,
    "start_time": "2023-10-19T01:31:54.063Z"
   },
   {
    "duration": 5,
    "start_time": "2023-10-19T01:35:13.499Z"
   },
   {
    "duration": 6,
    "start_time": "2023-10-19T01:41:21.044Z"
   },
   {
    "duration": 5,
    "start_time": "2023-10-19T01:43:48.997Z"
   },
   {
    "duration": 5,
    "start_time": "2023-10-19T01:44:33.279Z"
   },
   {
    "duration": 6,
    "start_time": "2023-10-19T01:45:03.119Z"
   },
   {
    "duration": 5,
    "start_time": "2023-10-19T01:49:02.246Z"
   },
   {
    "duration": 5,
    "start_time": "2023-10-19T01:49:11.411Z"
   },
   {
    "duration": 5,
    "start_time": "2023-10-19T01:49:15.185Z"
   },
   {
    "duration": 5,
    "start_time": "2023-10-19T01:49:21.795Z"
   },
   {
    "duration": 85,
    "start_time": "2023-10-19T01:50:08.652Z"
   },
   {
    "duration": 5,
    "start_time": "2023-10-19T01:53:06.795Z"
   },
   {
    "duration": 9,
    "start_time": "2023-10-19T02:03:59.309Z"
   },
   {
    "duration": 9,
    "start_time": "2023-10-19T02:04:37.963Z"
   },
   {
    "duration": 4,
    "start_time": "2023-10-19T02:06:16.961Z"
   },
   {
    "duration": 49,
    "start_time": "2023-10-19T13:08:13.220Z"
   },
   {
    "duration": 76,
    "start_time": "2023-10-19T13:08:26.183Z"
   },
   {
    "duration": 1363,
    "start_time": "2023-10-19T13:08:34.074Z"
   },
   {
    "duration": 197,
    "start_time": "2023-10-19T13:08:35.439Z"
   },
   {
    "duration": 13,
    "start_time": "2023-10-19T13:08:35.638Z"
   },
   {
    "duration": 55,
    "start_time": "2023-10-19T13:08:35.653Z"
   },
   {
    "duration": 28,
    "start_time": "2023-10-19T13:08:35.710Z"
   },
   {
    "duration": 18,
    "start_time": "2023-10-19T13:08:35.740Z"
   },
   {
    "duration": 21,
    "start_time": "2023-10-19T13:08:35.760Z"
   },
   {
    "duration": 16,
    "start_time": "2023-10-19T13:08:35.783Z"
   },
   {
    "duration": 26,
    "start_time": "2023-10-19T13:08:35.800Z"
   },
   {
    "duration": 27,
    "start_time": "2023-10-19T13:08:35.827Z"
   },
   {
    "duration": 16,
    "start_time": "2023-10-19T13:08:35.856Z"
   },
   {
    "duration": 19,
    "start_time": "2023-10-19T13:08:35.874Z"
   },
   {
    "duration": 12,
    "start_time": "2023-10-19T13:08:35.894Z"
   },
   {
    "duration": 195,
    "start_time": "2023-10-19T13:08:35.908Z"
   },
   {
    "duration": 21,
    "start_time": "2023-10-19T13:08:36.104Z"
   },
   {
    "duration": 145,
    "start_time": "2023-10-19T13:08:36.126Z"
   },
   {
    "duration": 236,
    "start_time": "2023-10-19T13:08:36.273Z"
   },
   {
    "duration": 672,
    "start_time": "2023-10-19T13:08:36.511Z"
   },
   {
    "duration": 6,
    "start_time": "2023-10-19T13:08:37.185Z"
   },
   {
    "duration": 153,
    "start_time": "2023-10-19T13:08:37.193Z"
   },
   {
    "duration": 30,
    "start_time": "2023-10-19T13:08:37.349Z"
   },
   {
    "duration": 11,
    "start_time": "2023-10-19T13:08:37.381Z"
   },
   {
    "duration": 38,
    "start_time": "2023-10-19T13:08:37.393Z"
   },
   {
    "duration": 22,
    "start_time": "2023-10-19T13:08:37.433Z"
   },
   {
    "duration": 170,
    "start_time": "2023-10-19T13:08:37.456Z"
   },
   {
    "duration": 246,
    "start_time": "2023-10-19T13:08:37.627Z"
   },
   {
    "duration": 29,
    "start_time": "2023-10-19T13:08:37.875Z"
   },
   {
    "duration": 4328,
    "start_time": "2023-10-19T13:08:37.906Z"
   },
   {
    "duration": 155,
    "start_time": "2023-10-19T13:08:42.236Z"
   },
   {
    "duration": 6,
    "start_time": "2023-10-19T13:08:42.392Z"
   },
   {
    "duration": 8,
    "start_time": "2023-10-19T13:08:42.400Z"
   },
   {
    "duration": 5,
    "start_time": "2023-10-19T13:08:42.425Z"
   },
   {
    "duration": 11,
    "start_time": "2023-10-19T13:08:42.432Z"
   },
   {
    "duration": 10,
    "start_time": "2023-10-19T13:08:42.445Z"
   },
   {
    "duration": 6,
    "start_time": "2023-10-19T13:08:42.457Z"
   },
   {
    "duration": 1475,
    "start_time": "2023-10-19T13:08:42.465Z"
   },
   {
    "duration": 1485,
    "start_time": "2023-10-19T13:14:16.456Z"
   },
   {
    "duration": 288,
    "start_time": "2023-10-19T13:17:09.466Z"
   },
   {
    "duration": 1573,
    "start_time": "2023-10-19T13:20:33.642Z"
   },
   {
    "duration": 1599,
    "start_time": "2023-10-19T13:20:44.376Z"
   },
   {
    "duration": 1553,
    "start_time": "2023-10-19T13:21:09.617Z"
   },
   {
    "duration": 1585,
    "start_time": "2023-10-19T13:21:15.743Z"
   },
   {
    "duration": 100,
    "start_time": "2023-10-19T13:22:24.277Z"
   },
   {
    "duration": 1542,
    "start_time": "2023-10-19T13:24:31.512Z"
   },
   {
    "duration": 49,
    "start_time": "2023-10-19T13:25:13.955Z"
   },
   {
    "duration": 1690,
    "start_time": "2023-10-19T13:25:30.979Z"
   },
   {
    "duration": 1622,
    "start_time": "2023-10-19T13:55:24.585Z"
   },
   {
    "duration": 1513,
    "start_time": "2023-10-19T13:56:25.505Z"
   },
   {
    "duration": 68,
    "start_time": "2023-10-19T14:07:28.097Z"
   },
   {
    "duration": 53,
    "start_time": "2023-10-19T14:07:43.644Z"
   },
   {
    "duration": 21,
    "start_time": "2023-10-19T14:08:35.256Z"
   },
   {
    "duration": 2335,
    "start_time": "2023-10-19T14:09:06.842Z"
   },
   {
    "duration": 2536,
    "start_time": "2023-10-19T14:09:53.122Z"
   },
   {
    "duration": 80,
    "start_time": "2023-10-19T14:10:44.746Z"
   },
   {
    "duration": 1563,
    "start_time": "2023-10-19T14:10:56.264Z"
   },
   {
    "duration": 2,
    "start_time": "2023-10-19T14:59:26.190Z"
   },
   {
    "duration": 5,
    "start_time": "2023-10-19T15:00:15.588Z"
   },
   {
    "duration": 5,
    "start_time": "2023-10-19T15:00:24.788Z"
   },
   {
    "duration": 142,
    "start_time": "2023-10-19T15:01:42.662Z"
   },
   {
    "duration": 3,
    "start_time": "2023-10-19T15:02:10.001Z"
   },
   {
    "duration": 6,
    "start_time": "2023-10-19T15:03:19.570Z"
   },
   {
    "duration": 6,
    "start_time": "2023-10-19T15:03:47.920Z"
   },
   {
    "duration": 10,
    "start_time": "2023-10-19T15:13:47.654Z"
   },
   {
    "duration": 101,
    "start_time": "2023-10-19T15:14:00.213Z"
   },
   {
    "duration": 5,
    "start_time": "2023-10-19T15:14:22.977Z"
   },
   {
    "duration": 1224,
    "start_time": "2023-10-19T15:17:07.019Z"
   },
   {
    "duration": 70,
    "start_time": "2023-10-19T15:17:08.245Z"
   },
   {
    "duration": 12,
    "start_time": "2023-10-19T15:17:08.317Z"
   },
   {
    "duration": 19,
    "start_time": "2023-10-19T15:17:08.331Z"
   },
   {
    "duration": 16,
    "start_time": "2023-10-19T15:17:08.351Z"
   },
   {
    "duration": 26,
    "start_time": "2023-10-19T15:17:08.368Z"
   },
   {
    "duration": 7,
    "start_time": "2023-10-19T15:17:08.395Z"
   },
   {
    "duration": 21,
    "start_time": "2023-10-19T15:17:08.404Z"
   },
   {
    "duration": 32,
    "start_time": "2023-10-19T15:17:08.426Z"
   },
   {
    "duration": 15,
    "start_time": "2023-10-19T15:17:08.461Z"
   },
   {
    "duration": 17,
    "start_time": "2023-10-19T15:17:08.478Z"
   },
   {
    "duration": 8,
    "start_time": "2023-10-19T15:17:08.497Z"
   },
   {
    "duration": 38,
    "start_time": "2023-10-19T15:17:08.507Z"
   },
   {
    "duration": 166,
    "start_time": "2023-10-19T15:17:08.548Z"
   },
   {
    "duration": 14,
    "start_time": "2023-10-19T15:17:08.724Z"
   },
   {
    "duration": 156,
    "start_time": "2023-10-19T15:17:08.740Z"
   },
   {
    "duration": 249,
    "start_time": "2023-10-19T15:17:08.899Z"
   },
   {
    "duration": 594,
    "start_time": "2023-10-19T15:17:09.151Z"
   },
   {
    "duration": 7,
    "start_time": "2023-10-19T15:17:09.747Z"
   },
   {
    "duration": 173,
    "start_time": "2023-10-19T15:17:09.756Z"
   },
   {
    "duration": 33,
    "start_time": "2023-10-19T15:17:09.931Z"
   },
   {
    "duration": 11,
    "start_time": "2023-10-19T15:17:09.966Z"
   },
   {
    "duration": 17,
    "start_time": "2023-10-19T15:17:09.979Z"
   },
   {
    "duration": 50,
    "start_time": "2023-10-19T15:17:09.998Z"
   },
   {
    "duration": 183,
    "start_time": "2023-10-19T15:17:10.050Z"
   },
   {
    "duration": 264,
    "start_time": "2023-10-19T15:17:10.235Z"
   },
   {
    "duration": 42,
    "start_time": "2023-10-19T15:17:10.502Z"
   },
   {
    "duration": 4498,
    "start_time": "2023-10-19T15:17:10.548Z"
   },
   {
    "duration": 166,
    "start_time": "2023-10-19T15:17:15.048Z"
   },
   {
    "duration": 7,
    "start_time": "2023-10-19T15:17:15.223Z"
   },
   {
    "duration": 55,
    "start_time": "2023-10-19T15:17:15.232Z"
   },
   {
    "duration": 19,
    "start_time": "2023-10-19T15:17:15.289Z"
   },
   {
    "duration": 23,
    "start_time": "2023-10-19T15:17:15.310Z"
   },
   {
    "duration": 52,
    "start_time": "2023-10-19T15:17:15.335Z"
   },
   {
    "duration": 17,
    "start_time": "2023-10-19T15:17:15.390Z"
   },
   {
    "duration": 1459,
    "start_time": "2023-10-19T15:18:05.001Z"
   },
   {
    "duration": 100,
    "start_time": "2023-10-19T15:18:16.484Z"
   },
   {
    "duration": 99,
    "start_time": "2023-10-19T15:18:29.984Z"
   },
   {
    "duration": 100,
    "start_time": "2023-10-19T15:18:42.076Z"
   },
   {
    "duration": 11,
    "start_time": "2023-10-19T15:26:57.989Z"
   },
   {
    "duration": 6,
    "start_time": "2023-10-19T15:27:26.959Z"
   },
   {
    "duration": 168,
    "start_time": "2023-10-19T15:28:18.690Z"
   },
   {
    "duration": 1541,
    "start_time": "2023-10-19T15:30:16.099Z"
   },
   {
    "duration": 1469,
    "start_time": "2023-10-19T15:33:46.855Z"
   },
   {
    "duration": 32,
    "start_time": "2023-10-19T15:35:25.567Z"
   },
   {
    "duration": 25,
    "start_time": "2023-10-19T15:46:51.005Z"
   },
   {
    "duration": 6,
    "start_time": "2023-10-19T15:56:25.927Z"
   },
   {
    "duration": 5,
    "start_time": "2023-10-19T15:58:52.012Z"
   },
   {
    "duration": 42,
    "start_time": "2023-10-19T17:17:03.355Z"
   },
   {
    "duration": 1255,
    "start_time": "2023-10-19T17:17:12.358Z"
   },
   {
    "duration": 190,
    "start_time": "2023-10-19T17:17:13.615Z"
   },
   {
    "duration": 11,
    "start_time": "2023-10-19T17:17:13.807Z"
   },
   {
    "duration": 9,
    "start_time": "2023-10-19T17:17:13.820Z"
   },
   {
    "duration": 10,
    "start_time": "2023-10-19T17:17:13.831Z"
   },
   {
    "duration": 9,
    "start_time": "2023-10-19T17:17:13.842Z"
   },
   {
    "duration": 5,
    "start_time": "2023-10-19T17:17:13.853Z"
   },
   {
    "duration": 9,
    "start_time": "2023-10-19T17:17:13.859Z"
   },
   {
    "duration": 7,
    "start_time": "2023-10-19T17:17:13.869Z"
   },
   {
    "duration": 8,
    "start_time": "2023-10-19T17:17:13.879Z"
   },
   {
    "duration": 11,
    "start_time": "2023-10-19T17:17:13.888Z"
   },
   {
    "duration": 42,
    "start_time": "2023-10-19T17:17:13.901Z"
   },
   {
    "duration": 9,
    "start_time": "2023-10-19T17:17:13.944Z"
   },
   {
    "duration": 153,
    "start_time": "2023-10-19T17:17:13.954Z"
   },
   {
    "duration": 11,
    "start_time": "2023-10-19T17:17:14.109Z"
   },
   {
    "duration": 150,
    "start_time": "2023-10-19T17:17:14.122Z"
   },
   {
    "duration": 399,
    "start_time": "2023-10-19T17:17:14.274Z"
   },
   {
    "duration": 968,
    "start_time": "2023-10-19T17:17:14.675Z"
   },
   {
    "duration": 6,
    "start_time": "2023-10-19T17:17:15.645Z"
   },
   {
    "duration": 229,
    "start_time": "2023-10-19T17:17:15.653Z"
   },
   {
    "duration": 75,
    "start_time": "2023-10-19T17:17:15.884Z"
   },
   {
    "duration": 8,
    "start_time": "2023-10-19T17:17:15.960Z"
   },
   {
    "duration": 18,
    "start_time": "2023-10-19T17:17:15.969Z"
   },
   {
    "duration": 60,
    "start_time": "2023-10-19T17:17:15.989Z"
   },
   {
    "duration": 301,
    "start_time": "2023-10-19T17:17:16.050Z"
   },
   {
    "duration": 399,
    "start_time": "2023-10-19T17:17:16.353Z"
   },
   {
    "duration": 25,
    "start_time": "2023-10-19T17:17:16.754Z"
   },
   {
    "duration": 3834,
    "start_time": "2023-10-19T17:17:16.783Z"
   },
   {
    "duration": 153,
    "start_time": "2023-10-19T17:17:20.619Z"
   },
   {
    "duration": 4,
    "start_time": "2023-10-19T17:17:20.774Z"
   },
   {
    "duration": 6,
    "start_time": "2023-10-19T17:17:20.779Z"
   },
   {
    "duration": 9,
    "start_time": "2023-10-19T17:17:20.787Z"
   },
   {
    "duration": 8,
    "start_time": "2023-10-19T17:17:20.797Z"
   },
   {
    "duration": 12,
    "start_time": "2023-10-19T17:17:20.806Z"
   },
   {
    "duration": 25,
    "start_time": "2023-10-19T17:17:20.820Z"
   },
   {
    "duration": 11,
    "start_time": "2023-10-19T17:17:20.847Z"
   },
   {
    "duration": 1179,
    "start_time": "2023-10-19T17:17:20.859Z"
   },
   {
    "duration": 90,
    "start_time": "2023-10-19T17:17:22.039Z"
   },
   {
    "duration": 0,
    "start_time": "2023-10-19T17:17:22.130Z"
   },
   {
    "duration": 25,
    "start_time": "2023-10-19T17:20:33.983Z"
   },
   {
    "duration": 10,
    "start_time": "2023-10-19T17:20:42.087Z"
   },
   {
    "duration": 5,
    "start_time": "2023-10-19T17:21:05.224Z"
   },
   {
    "duration": 1051,
    "start_time": "2023-10-19T17:23:54.146Z"
   },
   {
    "duration": 66,
    "start_time": "2023-10-19T17:23:55.199Z"
   },
   {
    "duration": 10,
    "start_time": "2023-10-19T17:23:55.266Z"
   },
   {
    "duration": 10,
    "start_time": "2023-10-19T17:23:55.277Z"
   },
   {
    "duration": 7,
    "start_time": "2023-10-19T17:23:55.288Z"
   },
   {
    "duration": 9,
    "start_time": "2023-10-19T17:23:55.296Z"
   },
   {
    "duration": 6,
    "start_time": "2023-10-19T17:23:55.306Z"
   },
   {
    "duration": 30,
    "start_time": "2023-10-19T17:23:55.313Z"
   },
   {
    "duration": 7,
    "start_time": "2023-10-19T17:23:55.344Z"
   },
   {
    "duration": 9,
    "start_time": "2023-10-19T17:23:55.353Z"
   },
   {
    "duration": 12,
    "start_time": "2023-10-19T17:23:55.363Z"
   },
   {
    "duration": 6,
    "start_time": "2023-10-19T17:23:55.376Z"
   },
   {
    "duration": 10,
    "start_time": "2023-10-19T17:23:55.383Z"
   },
   {
    "duration": 184,
    "start_time": "2023-10-19T17:23:55.394Z"
   },
   {
    "duration": 52,
    "start_time": "2023-10-19T17:23:55.579Z"
   },
   {
    "duration": 118,
    "start_time": "2023-10-19T17:23:55.632Z"
   },
   {
    "duration": 204,
    "start_time": "2023-10-19T17:23:55.751Z"
   },
   {
    "duration": 554,
    "start_time": "2023-10-19T17:23:55.956Z"
   },
   {
    "duration": 4,
    "start_time": "2023-10-19T17:23:56.512Z"
   },
   {
    "duration": 140,
    "start_time": "2023-10-19T17:23:56.518Z"
   },
   {
    "duration": 28,
    "start_time": "2023-10-19T17:23:56.659Z"
   },
   {
    "duration": 10,
    "start_time": "2023-10-19T17:23:56.688Z"
   },
   {
    "duration": 20,
    "start_time": "2023-10-19T17:23:56.700Z"
   },
   {
    "duration": 24,
    "start_time": "2023-10-19T17:23:56.721Z"
   },
   {
    "duration": 154,
    "start_time": "2023-10-19T17:23:56.746Z"
   },
   {
    "duration": 199,
    "start_time": "2023-10-19T17:23:56.902Z"
   },
   {
    "duration": 23,
    "start_time": "2023-10-19T17:23:57.102Z"
   },
   {
    "duration": 3452,
    "start_time": "2023-10-19T17:23:57.139Z"
   },
   {
    "duration": 153,
    "start_time": "2023-10-19T17:24:00.592Z"
   },
   {
    "duration": 3,
    "start_time": "2023-10-19T17:24:00.747Z"
   },
   {
    "duration": 37,
    "start_time": "2023-10-19T17:24:00.752Z"
   },
   {
    "duration": 21,
    "start_time": "2023-10-19T17:24:00.790Z"
   },
   {
    "duration": 17,
    "start_time": "2023-10-19T17:24:00.812Z"
   },
   {
    "duration": 48,
    "start_time": "2023-10-19T17:24:00.830Z"
   },
   {
    "duration": 39,
    "start_time": "2023-10-19T17:24:00.880Z"
   },
   {
    "duration": 27,
    "start_time": "2023-10-19T17:24:00.921Z"
   },
   {
    "duration": 1205,
    "start_time": "2023-10-19T17:24:00.949Z"
   },
   {
    "duration": 97,
    "start_time": "2023-10-19T17:24:02.155Z"
   },
   {
    "duration": 0,
    "start_time": "2023-10-19T17:24:02.254Z"
   },
   {
    "duration": 102,
    "start_time": "2023-10-19T17:37:31.781Z"
   },
   {
    "duration": 47,
    "start_time": "2023-10-19T17:56:26.620Z"
   },
   {
    "duration": 1172,
    "start_time": "2023-10-19T17:56:30.506Z"
   },
   {
    "duration": 88,
    "start_time": "2023-10-19T17:56:35.276Z"
   },
   {
    "duration": 104,
    "start_time": "2023-10-19T17:57:05.699Z"
   },
   {
    "duration": 12,
    "start_time": "2023-10-19T17:57:09.889Z"
   },
   {
    "duration": 11,
    "start_time": "2023-10-19T17:57:12.172Z"
   },
   {
    "duration": 9,
    "start_time": "2023-10-19T17:57:14.068Z"
   },
   {
    "duration": 11,
    "start_time": "2023-10-19T17:57:16.091Z"
   },
   {
    "duration": 7,
    "start_time": "2023-10-19T17:57:18.430Z"
   },
   {
    "duration": 10,
    "start_time": "2023-10-19T17:57:20.126Z"
   },
   {
    "duration": 10,
    "start_time": "2023-10-19T17:57:23.251Z"
   },
   {
    "duration": 11,
    "start_time": "2023-10-19T17:57:24.964Z"
   },
   {
    "duration": 14,
    "start_time": "2023-10-19T17:57:41.940Z"
   },
   {
    "duration": 93,
    "start_time": "2023-10-19T17:58:06.586Z"
   },
   {
    "duration": 10,
    "start_time": "2023-10-19T17:58:21.835Z"
   },
   {
    "duration": 12,
    "start_time": "2023-10-19T17:58:24.294Z"
   },
   {
    "duration": 83,
    "start_time": "2023-10-19T17:59:34.041Z"
   },
   {
    "duration": 6,
    "start_time": "2023-10-19T18:01:27.391Z"
   },
   {
    "duration": 80,
    "start_time": "2023-10-19T18:03:08.145Z"
   },
   {
    "duration": 178,
    "start_time": "2023-10-19T18:03:54.861Z"
   },
   {
    "duration": 148,
    "start_time": "2023-10-19T18:04:16.510Z"
   },
   {
    "duration": 172,
    "start_time": "2023-10-19T18:06:37.705Z"
   },
   {
    "duration": 160,
    "start_time": "2023-10-19T18:06:46.607Z"
   },
   {
    "duration": 170,
    "start_time": "2023-10-19T18:06:52.987Z"
   },
   {
    "duration": 81,
    "start_time": "2023-10-19T18:07:14.255Z"
   },
   {
    "duration": 85,
    "start_time": "2023-10-19T18:07:45.413Z"
   },
   {
    "duration": 113,
    "start_time": "2023-10-19T18:07:48.694Z"
   },
   {
    "duration": 148,
    "start_time": "2023-10-19T18:13:08.109Z"
   },
   {
    "duration": 143,
    "start_time": "2023-10-19T18:13:49.695Z"
   },
   {
    "duration": 150,
    "start_time": "2023-10-19T18:14:12.241Z"
   },
   {
    "duration": 226,
    "start_time": "2023-10-19T18:14:47.202Z"
   },
   {
    "duration": 136,
    "start_time": "2023-10-19T18:15:06.290Z"
   },
   {
    "duration": 226,
    "start_time": "2023-10-19T18:15:08.890Z"
   },
   {
    "duration": 597,
    "start_time": "2023-10-19T18:15:10.450Z"
   },
   {
    "duration": 6,
    "start_time": "2023-10-19T18:15:16.495Z"
   },
   {
    "duration": 142,
    "start_time": "2023-10-19T18:15:17.482Z"
   },
   {
    "duration": 88,
    "start_time": "2023-10-19T18:16:13.768Z"
   },
   {
    "duration": 124,
    "start_time": "2023-10-19T19:04:41.733Z"
   },
   {
    "duration": 97,
    "start_time": "2023-10-19T19:10:31.640Z"
   },
   {
    "duration": 13,
    "start_time": "2023-10-19T19:18:21.030Z"
   },
   {
    "duration": 9,
    "start_time": "2023-10-19T19:18:35.614Z"
   },
   {
    "duration": 7,
    "start_time": "2023-10-19T19:19:26.843Z"
   },
   {
    "duration": 31,
    "start_time": "2023-10-19T19:22:27.474Z"
   },
   {
    "duration": 86,
    "start_time": "2023-10-19T19:23:43.876Z"
   },
   {
    "duration": 29,
    "start_time": "2023-10-19T19:29:55.708Z"
   },
   {
    "duration": 32,
    "start_time": "2023-10-19T19:30:08.869Z"
   },
   {
    "duration": 145,
    "start_time": "2023-10-19T19:31:45.567Z"
   },
   {
    "duration": 18,
    "start_time": "2023-10-19T19:32:18.709Z"
   },
   {
    "duration": 163,
    "start_time": "2023-10-19T19:34:25.126Z"
   },
   {
    "duration": 148,
    "start_time": "2023-10-19T19:34:48.104Z"
   },
   {
    "duration": 246,
    "start_time": "2023-10-19T19:35:27.723Z"
   },
   {
    "duration": 171,
    "start_time": "2023-10-19T19:36:32.192Z"
   },
   {
    "duration": 32,
    "start_time": "2023-10-19T19:37:42.541Z"
   },
   {
    "duration": 3,
    "start_time": "2023-10-19T19:40:54.526Z"
   },
   {
    "duration": 29,
    "start_time": "2023-10-19T19:41:10.385Z"
   },
   {
    "duration": 348,
    "start_time": "2023-10-19T19:46:15.397Z"
   },
   {
    "duration": 11,
    "start_time": "2023-10-19T19:55:48.305Z"
   },
   {
    "duration": 10,
    "start_time": "2023-10-19T19:56:16.920Z"
   },
   {
    "duration": 256,
    "start_time": "2023-10-19T19:56:51.728Z"
   },
   {
    "duration": 253,
    "start_time": "2023-10-19T19:57:29.735Z"
   },
   {
    "duration": 437,
    "start_time": "2023-10-19T20:03:39.997Z"
   },
   {
    "duration": 600,
    "start_time": "2023-10-19T20:04:34.042Z"
   },
   {
    "duration": 266,
    "start_time": "2023-10-19T20:05:04.140Z"
   },
   {
    "duration": 567,
    "start_time": "2023-10-19T20:06:11.739Z"
   },
   {
    "duration": 84,
    "start_time": "2023-10-19T20:10:42.696Z"
   },
   {
    "duration": 31,
    "start_time": "2023-10-19T20:11:00.672Z"
   },
   {
    "duration": 7,
    "start_time": "2023-10-19T20:11:17.574Z"
   },
   {
    "duration": 4395,
    "start_time": "2023-10-19T20:11:38.401Z"
   },
   {
    "duration": 175,
    "start_time": "2023-10-19T20:12:52.552Z"
   },
   {
    "duration": 4415,
    "start_time": "2023-10-19T20:15:48.797Z"
   },
   {
    "duration": 4435,
    "start_time": "2023-10-19T20:18:11.766Z"
   },
   {
    "duration": 1540,
    "start_time": "2023-10-19T20:19:55.960Z"
   },
   {
    "duration": 1683,
    "start_time": "2023-10-19T20:20:14.682Z"
   },
   {
    "duration": 9,
    "start_time": "2023-10-19T20:27:13.069Z"
   },
   {
    "duration": 17,
    "start_time": "2023-10-19T20:27:58.560Z"
   },
   {
    "duration": 17,
    "start_time": "2023-10-19T20:28:39.856Z"
   },
   {
    "duration": 164,
    "start_time": "2023-10-19T20:29:30.462Z"
   },
   {
    "duration": 169,
    "start_time": "2023-10-19T20:29:35.912Z"
   },
   {
    "duration": 5,
    "start_time": "2023-10-19T20:31:06.153Z"
   },
   {
    "duration": 94,
    "start_time": "2023-10-19T20:35:09.699Z"
   },
   {
    "duration": 83,
    "start_time": "2023-10-19T20:36:16.249Z"
   },
   {
    "duration": 9,
    "start_time": "2023-10-19T20:36:54.102Z"
   },
   {
    "duration": 3,
    "start_time": "2023-10-19T20:37:21.668Z"
   },
   {
    "duration": 5,
    "start_time": "2023-10-19T20:38:13.717Z"
   },
   {
    "duration": 4,
    "start_time": "2023-10-19T20:38:26.384Z"
   },
   {
    "duration": 77,
    "start_time": "2023-10-19T20:42:19.318Z"
   },
   {
    "duration": 1489,
    "start_time": "2023-10-19T20:43:40.446Z"
   },
   {
    "duration": 3,
    "start_time": "2023-10-19T20:44:24.978Z"
   },
   {
    "duration": 3,
    "start_time": "2023-10-19T20:44:52.708Z"
   },
   {
    "duration": 1555,
    "start_time": "2023-10-19T20:45:09.520Z"
   },
   {
    "duration": 11,
    "start_time": "2023-10-19T20:45:16.093Z"
   },
   {
    "duration": 27,
    "start_time": "2023-10-19T20:47:28.420Z"
   },
   {
    "duration": 6,
    "start_time": "2023-10-19T20:48:26.297Z"
   },
   {
    "duration": 136,
    "start_time": "2023-10-19T20:51:13.872Z"
   },
   {
    "duration": 1224,
    "start_time": "2023-10-19T20:51:26.713Z"
   },
   {
    "duration": 73,
    "start_time": "2023-10-19T20:51:27.939Z"
   },
   {
    "duration": 11,
    "start_time": "2023-10-19T20:51:28.014Z"
   },
   {
    "duration": 11,
    "start_time": "2023-10-19T20:51:28.027Z"
   },
   {
    "duration": 11,
    "start_time": "2023-10-19T20:51:28.040Z"
   },
   {
    "duration": 25,
    "start_time": "2023-10-19T20:51:28.053Z"
   },
   {
    "duration": 7,
    "start_time": "2023-10-19T20:51:28.080Z"
   },
   {
    "duration": 37,
    "start_time": "2023-10-19T20:51:28.089Z"
   },
   {
    "duration": 10,
    "start_time": "2023-10-19T20:51:28.128Z"
   },
   {
    "duration": 13,
    "start_time": "2023-10-19T20:51:28.140Z"
   },
   {
    "duration": 8,
    "start_time": "2023-10-19T20:51:28.155Z"
   },
   {
    "duration": 11,
    "start_time": "2023-10-19T20:51:28.165Z"
   },
   {
    "duration": 50,
    "start_time": "2023-10-19T20:51:28.178Z"
   },
   {
    "duration": 202,
    "start_time": "2023-10-19T20:51:28.230Z"
   },
   {
    "duration": 8,
    "start_time": "2023-10-19T20:51:28.434Z"
   },
   {
    "duration": 181,
    "start_time": "2023-10-19T20:51:28.443Z"
   },
   {
    "duration": 149,
    "start_time": "2023-10-19T20:51:28.626Z"
   },
   {
    "duration": 262,
    "start_time": "2023-10-19T20:51:28.777Z"
   },
   {
    "duration": 23,
    "start_time": "2023-10-19T20:51:29.041Z"
   },
   {
    "duration": 622,
    "start_time": "2023-10-19T20:51:29.066Z"
   },
   {
    "duration": 7,
    "start_time": "2023-10-19T20:51:29.690Z"
   },
   {
    "duration": 192,
    "start_time": "2023-10-19T20:51:29.698Z"
   },
   {
    "duration": 346,
    "start_time": "2023-10-19T20:51:29.891Z"
   },
   {
    "duration": 477,
    "start_time": "2023-10-19T20:51:30.239Z"
   },
   {
    "duration": 32,
    "start_time": "2023-10-19T20:51:30.718Z"
   },
   {
    "duration": 27,
    "start_time": "2023-10-19T20:51:30.752Z"
   },
   {
    "duration": 56,
    "start_time": "2023-10-19T20:51:30.781Z"
   },
   {
    "duration": 70,
    "start_time": "2023-10-19T20:51:30.841Z"
   },
   {
    "duration": 206,
    "start_time": "2023-10-19T20:51:30.912Z"
   },
   {
    "duration": 190,
    "start_time": "2023-10-19T20:51:31.120Z"
   },
   {
    "duration": 37,
    "start_time": "2023-10-19T20:51:31.313Z"
   },
   {
    "duration": 16,
    "start_time": "2023-10-19T20:51:31.352Z"
   },
   {
    "duration": 4555,
    "start_time": "2023-10-19T20:51:31.370Z"
   },
   {
    "duration": 184,
    "start_time": "2023-10-19T20:51:35.926Z"
   },
   {
    "duration": 16,
    "start_time": "2023-10-19T20:51:36.112Z"
   },
   {
    "duration": 10,
    "start_time": "2023-10-19T20:51:36.130Z"
   },
   {
    "duration": 7,
    "start_time": "2023-10-19T20:51:36.142Z"
   },
   {
    "duration": 30,
    "start_time": "2023-10-19T20:51:36.151Z"
   },
   {
    "duration": 2490,
    "start_time": "2023-10-19T20:51:36.183Z"
   },
   {
    "duration": 0,
    "start_time": "2023-10-19T20:51:38.675Z"
   },
   {
    "duration": 0,
    "start_time": "2023-10-19T20:51:38.676Z"
   },
   {
    "duration": 0,
    "start_time": "2023-10-19T20:51:38.678Z"
   },
   {
    "duration": 0,
    "start_time": "2023-10-19T20:51:38.679Z"
   },
   {
    "duration": 88,
    "start_time": "2023-10-19T20:52:50.128Z"
   },
   {
    "duration": 73,
    "start_time": "2023-10-19T20:53:27.246Z"
   },
   {
    "duration": 5,
    "start_time": "2023-10-19T20:54:10.160Z"
   },
   {
    "duration": 157,
    "start_time": "2023-10-19T20:55:40.028Z"
   },
   {
    "duration": 250,
    "start_time": "2023-10-19T20:57:09.198Z"
   },
   {
    "duration": 9,
    "start_time": "2023-10-19T21:00:34.730Z"
   },
   {
    "duration": 16,
    "start_time": "2023-10-19T21:01:27.297Z"
   },
   {
    "duration": 4380,
    "start_time": "2023-10-19T21:03:17.592Z"
   },
   {
    "duration": 1397,
    "start_time": "2023-10-19T21:05:17.680Z"
   },
   {
    "duration": 1452,
    "start_time": "2023-10-19T21:05:55.629Z"
   },
   {
    "duration": 179,
    "start_time": "2023-10-19T21:06:30.020Z"
   },
   {
    "duration": 11,
    "start_time": "2023-10-19T21:07:21.703Z"
   },
   {
    "duration": 1134,
    "start_time": "2023-10-19T21:11:02.690Z"
   },
   {
    "duration": 72,
    "start_time": "2023-10-19T21:11:03.826Z"
   },
   {
    "duration": 11,
    "start_time": "2023-10-19T21:11:03.900Z"
   },
   {
    "duration": 16,
    "start_time": "2023-10-19T21:11:03.913Z"
   },
   {
    "duration": 38,
    "start_time": "2023-10-19T21:11:03.931Z"
   },
   {
    "duration": 26,
    "start_time": "2023-10-19T21:11:03.971Z"
   },
   {
    "duration": 6,
    "start_time": "2023-10-19T21:11:03.999Z"
   },
   {
    "duration": 16,
    "start_time": "2023-10-19T21:11:04.007Z"
   },
   {
    "duration": 12,
    "start_time": "2023-10-19T21:11:04.025Z"
   },
   {
    "duration": 14,
    "start_time": "2023-10-19T21:11:04.040Z"
   },
   {
    "duration": 8,
    "start_time": "2023-10-19T21:11:04.056Z"
   },
   {
    "duration": 15,
    "start_time": "2023-10-19T21:11:04.066Z"
   },
   {
    "duration": 6,
    "start_time": "2023-10-19T21:11:04.092Z"
   },
   {
    "duration": 226,
    "start_time": "2023-10-19T21:11:04.123Z"
   },
   {
    "duration": 7,
    "start_time": "2023-10-19T21:11:04.351Z"
   },
   {
    "duration": 169,
    "start_time": "2023-10-19T21:11:04.360Z"
   },
   {
    "duration": 157,
    "start_time": "2023-10-19T21:11:04.531Z"
   },
   {
    "duration": 266,
    "start_time": "2023-10-19T21:11:04.690Z"
   },
   {
    "duration": 20,
    "start_time": "2023-10-19T21:11:04.958Z"
   },
   {
    "duration": 615,
    "start_time": "2023-10-19T21:11:04.980Z"
   },
   {
    "duration": 6,
    "start_time": "2023-10-19T21:11:05.597Z"
   },
   {
    "duration": 169,
    "start_time": "2023-10-19T21:11:05.604Z"
   },
   {
    "duration": 331,
    "start_time": "2023-10-19T21:11:05.774Z"
   },
   {
    "duration": 442,
    "start_time": "2023-10-19T21:11:06.107Z"
   },
   {
    "duration": 28,
    "start_time": "2023-10-19T21:11:06.551Z"
   },
   {
    "duration": 8,
    "start_time": "2023-10-19T21:11:06.581Z"
   },
   {
    "duration": 45,
    "start_time": "2023-10-19T21:11:06.591Z"
   },
   {
    "duration": 23,
    "start_time": "2023-10-19T21:11:06.640Z"
   },
   {
    "duration": 33,
    "start_time": "2023-10-19T21:11:06.665Z"
   },
   {
    "duration": 175,
    "start_time": "2023-10-19T21:11:06.700Z"
   },
   {
    "duration": 174,
    "start_time": "2023-10-19T21:11:06.877Z"
   },
   {
    "duration": 28,
    "start_time": "2023-10-19T21:11:07.052Z"
   },
   {
    "duration": 5,
    "start_time": "2023-10-19T21:11:07.082Z"
   },
   {
    "duration": 4319,
    "start_time": "2023-10-19T21:11:07.088Z"
   },
   {
    "duration": 172,
    "start_time": "2023-10-19T21:11:11.409Z"
   },
   {
    "duration": 6,
    "start_time": "2023-10-19T21:11:11.582Z"
   },
   {
    "duration": 30,
    "start_time": "2023-10-19T21:11:11.589Z"
   },
   {
    "duration": 10,
    "start_time": "2023-10-19T21:11:11.620Z"
   },
   {
    "duration": 17,
    "start_time": "2023-10-19T21:11:11.631Z"
   },
   {
    "duration": 11,
    "start_time": "2023-10-19T21:11:11.650Z"
   },
   {
    "duration": 4,
    "start_time": "2023-10-19T21:11:11.662Z"
   },
   {
    "duration": 1414,
    "start_time": "2023-10-19T21:11:11.668Z"
   },
   {
    "duration": 43,
    "start_time": "2023-10-19T21:11:13.084Z"
   },
   {
    "duration": 6,
    "start_time": "2023-10-19T21:11:13.129Z"
   },
   {
    "duration": 156,
    "start_time": "2023-10-19T21:13:35.883Z"
   },
   {
    "duration": 163,
    "start_time": "2023-10-19T21:13:45.131Z"
   },
   {
    "duration": 152,
    "start_time": "2023-10-19T21:14:55.667Z"
   },
   {
    "duration": 380,
    "start_time": "2023-10-19T21:15:45.560Z"
   },
   {
    "duration": 241,
    "start_time": "2023-10-19T21:15:50.760Z"
   },
   {
    "duration": 7,
    "start_time": "2023-10-19T21:16:25.210Z"
   },
   {
    "duration": 1212,
    "start_time": "2023-10-19T21:19:56.507Z"
   },
   {
    "duration": 74,
    "start_time": "2023-10-19T21:19:57.721Z"
   },
   {
    "duration": 12,
    "start_time": "2023-10-19T21:19:57.797Z"
   },
   {
    "duration": 15,
    "start_time": "2023-10-19T21:19:57.811Z"
   },
   {
    "duration": 15,
    "start_time": "2023-10-19T21:19:57.828Z"
   },
   {
    "duration": 25,
    "start_time": "2023-10-19T21:19:57.845Z"
   },
   {
    "duration": 19,
    "start_time": "2023-10-19T21:19:57.871Z"
   },
   {
    "duration": 38,
    "start_time": "2023-10-19T21:19:57.891Z"
   },
   {
    "duration": 16,
    "start_time": "2023-10-19T21:19:57.930Z"
   },
   {
    "duration": 39,
    "start_time": "2023-10-19T21:19:57.949Z"
   },
   {
    "duration": 14,
    "start_time": "2023-10-19T21:19:57.990Z"
   },
   {
    "duration": 30,
    "start_time": "2023-10-19T21:19:58.006Z"
   },
   {
    "duration": 4,
    "start_time": "2023-10-19T21:19:58.038Z"
   },
   {
    "duration": 210,
    "start_time": "2023-10-19T21:19:58.043Z"
   },
   {
    "duration": 26,
    "start_time": "2023-10-19T21:19:58.254Z"
   },
   {
    "duration": 159,
    "start_time": "2023-10-19T21:19:58.282Z"
   },
   {
    "duration": 153,
    "start_time": "2023-10-19T21:19:58.442Z"
   },
   {
    "duration": 257,
    "start_time": "2023-10-19T21:19:58.597Z"
   },
   {
    "duration": 21,
    "start_time": "2023-10-19T21:19:58.856Z"
   },
   {
    "duration": 613,
    "start_time": "2023-10-19T21:19:58.878Z"
   },
   {
    "duration": 6,
    "start_time": "2023-10-19T21:19:59.493Z"
   },
   {
    "duration": 175,
    "start_time": "2023-10-19T21:19:59.501Z"
   },
   {
    "duration": 347,
    "start_time": "2023-10-19T21:19:59.678Z"
   },
   {
    "duration": 501,
    "start_time": "2023-10-19T21:20:00.027Z"
   },
   {
    "duration": 33,
    "start_time": "2023-10-19T21:20:00.530Z"
   },
   {
    "duration": 10,
    "start_time": "2023-10-19T21:20:00.564Z"
   },
   {
    "duration": 27,
    "start_time": "2023-10-19T21:20:00.576Z"
   },
   {
    "duration": 12,
    "start_time": "2023-10-19T21:20:00.626Z"
   },
   {
    "duration": 45,
    "start_time": "2023-10-19T21:20:00.640Z"
   },
   {
    "duration": 218,
    "start_time": "2023-10-19T21:20:00.686Z"
   },
   {
    "duration": 183,
    "start_time": "2023-10-19T21:20:00.906Z"
   },
   {
    "duration": 39,
    "start_time": "2023-10-19T21:20:01.091Z"
   },
   {
    "duration": 8,
    "start_time": "2023-10-19T21:20:01.132Z"
   },
   {
    "duration": 4411,
    "start_time": "2023-10-19T21:20:01.141Z"
   },
   {
    "duration": 176,
    "start_time": "2023-10-19T21:20:05.554Z"
   },
   {
    "duration": 6,
    "start_time": "2023-10-19T21:20:05.732Z"
   },
   {
    "duration": 26,
    "start_time": "2023-10-19T21:20:05.740Z"
   },
   {
    "duration": 36,
    "start_time": "2023-10-19T21:20:05.768Z"
   },
   {
    "duration": 25,
    "start_time": "2023-10-19T21:20:05.806Z"
   },
   {
    "duration": 34,
    "start_time": "2023-10-19T21:20:05.833Z"
   },
   {
    "duration": 33,
    "start_time": "2023-10-19T21:20:05.869Z"
   },
   {
    "duration": 1420,
    "start_time": "2023-10-19T21:20:05.904Z"
   },
   {
    "duration": 26,
    "start_time": "2023-10-19T21:20:07.326Z"
   },
   {
    "duration": 6,
    "start_time": "2023-10-19T21:20:07.354Z"
   },
   {
    "duration": 150,
    "start_time": "2023-10-19T21:22:06.963Z"
   },
   {
    "duration": 164,
    "start_time": "2023-10-19T21:23:00.217Z"
   },
   {
    "duration": 151,
    "start_time": "2023-10-19T21:23:17.793Z"
   },
   {
    "duration": 1874,
    "start_time": "2023-10-20T11:04:21.034Z"
   },
   {
    "duration": 257,
    "start_time": "2023-10-20T11:04:22.910Z"
   },
   {
    "duration": 39,
    "start_time": "2023-10-20T11:04:23.168Z"
   },
   {
    "duration": 12,
    "start_time": "2023-10-20T11:04:23.209Z"
   },
   {
    "duration": 42,
    "start_time": "2023-10-20T11:04:23.222Z"
   },
   {
    "duration": 42,
    "start_time": "2023-10-20T11:04:23.266Z"
   },
   {
    "duration": 28,
    "start_time": "2023-10-20T11:04:23.309Z"
   },
   {
    "duration": 21,
    "start_time": "2023-10-20T11:04:23.339Z"
   },
   {
    "duration": 27,
    "start_time": "2023-10-20T11:04:23.363Z"
   },
   {
    "duration": 19,
    "start_time": "2023-10-20T11:04:23.393Z"
   },
   {
    "duration": 28,
    "start_time": "2023-10-20T11:04:23.414Z"
   },
   {
    "duration": 25,
    "start_time": "2023-10-20T11:04:23.443Z"
   },
   {
    "duration": 45,
    "start_time": "2023-10-20T11:04:23.469Z"
   },
   {
    "duration": 303,
    "start_time": "2023-10-20T11:04:23.516Z"
   },
   {
    "duration": 8,
    "start_time": "2023-10-20T11:04:23.821Z"
   },
   {
    "duration": 180,
    "start_time": "2023-10-20T11:04:23.830Z"
   },
   {
    "duration": 166,
    "start_time": "2023-10-20T11:04:24.012Z"
   },
   {
    "duration": 276,
    "start_time": "2023-10-20T11:04:24.180Z"
   },
   {
    "duration": 22,
    "start_time": "2023-10-20T11:04:24.458Z"
   },
   {
    "duration": 1269,
    "start_time": "2023-10-20T11:04:24.482Z"
   },
   {
    "duration": 6,
    "start_time": "2023-10-20T11:04:25.801Z"
   },
   {
    "duration": 515,
    "start_time": "2023-10-20T11:04:25.809Z"
   },
   {
    "duration": 726,
    "start_time": "2023-10-20T11:04:26.326Z"
   },
   {
    "duration": 749,
    "start_time": "2023-10-20T11:04:27.102Z"
   },
   {
    "duration": 32,
    "start_time": "2023-10-20T11:04:27.902Z"
   },
   {
    "duration": 70,
    "start_time": "2023-10-20T11:04:27.935Z"
   },
   {
    "duration": 102,
    "start_time": "2023-10-20T11:04:28.007Z"
   },
   {
    "duration": 47,
    "start_time": "2023-10-20T11:04:28.112Z"
   },
   {
    "duration": 16,
    "start_time": "2023-10-20T11:04:28.203Z"
   },
   {
    "duration": 312,
    "start_time": "2023-10-20T11:04:28.221Z"
   },
   {
    "duration": 386,
    "start_time": "2023-10-20T11:04:28.535Z"
   },
   {
    "duration": 91,
    "start_time": "2023-10-20T11:04:28.923Z"
   },
   {
    "duration": 7,
    "start_time": "2023-10-20T11:04:29.016Z"
   },
   {
    "duration": 9198,
    "start_time": "2023-10-20T11:04:29.025Z"
   },
   {
    "duration": 486,
    "start_time": "2023-10-20T11:04:38.224Z"
   },
   {
    "duration": 7,
    "start_time": "2023-10-20T11:04:38.712Z"
   },
   {
    "duration": 6,
    "start_time": "2023-10-20T11:04:38.720Z"
   },
   {
    "duration": 81,
    "start_time": "2023-10-20T11:04:38.729Z"
   },
   {
    "duration": 12,
    "start_time": "2023-10-20T11:04:38.811Z"
   },
   {
    "duration": 13,
    "start_time": "2023-10-20T11:04:38.825Z"
   },
   {
    "duration": 5,
    "start_time": "2023-10-20T11:04:38.841Z"
   },
   {
    "duration": 3182,
    "start_time": "2023-10-20T11:04:38.848Z"
   },
   {
    "duration": 85,
    "start_time": "2023-10-20T11:04:42.032Z"
   },
   {
    "duration": 11,
    "start_time": "2023-10-20T11:04:42.119Z"
   },
   {
    "duration": 1610,
    "start_time": "2023-10-20T14:00:20.402Z"
   },
   {
    "duration": 392,
    "start_time": "2023-10-20T14:00:22.014Z"
   },
   {
    "duration": 14,
    "start_time": "2023-10-20T14:00:22.407Z"
   },
   {
    "duration": 43,
    "start_time": "2023-10-20T14:00:22.423Z"
   },
   {
    "duration": 17,
    "start_time": "2023-10-20T14:00:22.479Z"
   },
   {
    "duration": 29,
    "start_time": "2023-10-20T14:00:22.498Z"
   },
   {
    "duration": 9,
    "start_time": "2023-10-20T14:00:22.529Z"
   },
   {
    "duration": 27,
    "start_time": "2023-10-20T14:00:22.539Z"
   },
   {
    "duration": 26,
    "start_time": "2023-10-20T14:00:22.568Z"
   },
   {
    "duration": 29,
    "start_time": "2023-10-20T14:00:22.598Z"
   },
   {
    "duration": 11,
    "start_time": "2023-10-20T14:00:22.628Z"
   },
   {
    "duration": 20,
    "start_time": "2023-10-20T14:00:22.641Z"
   },
   {
    "duration": 24,
    "start_time": "2023-10-20T14:00:22.663Z"
   },
   {
    "duration": 251,
    "start_time": "2023-10-20T14:00:22.692Z"
   },
   {
    "duration": 29,
    "start_time": "2023-10-20T14:00:22.945Z"
   },
   {
    "duration": 219,
    "start_time": "2023-10-20T14:00:22.981Z"
   },
   {
    "duration": 220,
    "start_time": "2023-10-20T14:00:23.202Z"
   },
   {
    "duration": 326,
    "start_time": "2023-10-20T14:00:23.424Z"
   },
   {
    "duration": 36,
    "start_time": "2023-10-20T14:00:23.756Z"
   },
   {
    "duration": 742,
    "start_time": "2023-10-20T14:00:23.793Z"
   },
   {
    "duration": 5,
    "start_time": "2023-10-20T14:00:24.537Z"
   },
   {
    "duration": 211,
    "start_time": "2023-10-20T14:00:24.544Z"
   },
   {
    "duration": 408,
    "start_time": "2023-10-20T14:00:24.767Z"
   },
   {
    "duration": 520,
    "start_time": "2023-10-20T14:00:25.178Z"
   },
   {
    "duration": 35,
    "start_time": "2023-10-20T14:00:25.700Z"
   },
   {
    "duration": 40,
    "start_time": "2023-10-20T14:00:25.737Z"
   },
   {
    "duration": 22,
    "start_time": "2023-10-20T14:00:25.779Z"
   },
   {
    "duration": 28,
    "start_time": "2023-10-20T14:00:25.805Z"
   },
   {
    "duration": 34,
    "start_time": "2023-10-20T14:00:25.835Z"
   },
   {
    "duration": 243,
    "start_time": "2023-10-20T14:00:25.871Z"
   },
   {
    "duration": 215,
    "start_time": "2023-10-20T14:00:26.116Z"
   },
   {
    "duration": 52,
    "start_time": "2023-10-20T14:00:26.333Z"
   },
   {
    "duration": 7,
    "start_time": "2023-10-20T14:00:26.390Z"
   },
   {
    "duration": 5453,
    "start_time": "2023-10-20T14:00:26.399Z"
   },
   {
    "duration": 238,
    "start_time": "2023-10-20T14:00:31.858Z"
   },
   {
    "duration": 6,
    "start_time": "2023-10-20T14:00:32.098Z"
   },
   {
    "duration": 25,
    "start_time": "2023-10-20T14:00:32.106Z"
   },
   {
    "duration": 89,
    "start_time": "2023-10-20T14:00:32.133Z"
   },
   {
    "duration": 95,
    "start_time": "2023-10-20T14:00:32.224Z"
   },
   {
    "duration": 105,
    "start_time": "2023-10-20T14:00:32.321Z"
   },
   {
    "duration": 48,
    "start_time": "2023-10-20T14:00:32.428Z"
   },
   {
    "duration": 1912,
    "start_time": "2023-10-20T14:00:32.479Z"
   },
   {
    "duration": 29,
    "start_time": "2023-10-20T14:00:34.393Z"
   },
   {
    "duration": 6,
    "start_time": "2023-10-20T14:00:34.425Z"
   },
   {
    "duration": 229,
    "start_time": "2023-10-20T14:09:09.037Z"
   },
   {
    "duration": 6,
    "start_time": "2023-10-20T14:39:27.717Z"
   },
   {
    "duration": 1345,
    "start_time": "2023-10-20T14:47:23.328Z"
   },
   {
    "duration": 78,
    "start_time": "2023-10-20T14:47:24.676Z"
   },
   {
    "duration": 21,
    "start_time": "2023-10-20T14:47:24.755Z"
   },
   {
    "duration": 17,
    "start_time": "2023-10-20T14:47:24.779Z"
   },
   {
    "duration": 32,
    "start_time": "2023-10-20T14:47:24.799Z"
   },
   {
    "duration": 30,
    "start_time": "2023-10-20T14:47:24.833Z"
   },
   {
    "duration": 12,
    "start_time": "2023-10-20T14:47:24.870Z"
   },
   {
    "duration": 32,
    "start_time": "2023-10-20T14:47:24.884Z"
   },
   {
    "duration": 22,
    "start_time": "2023-10-20T14:47:24.918Z"
   },
   {
    "duration": 43,
    "start_time": "2023-10-20T14:47:24.941Z"
   },
   {
    "duration": 13,
    "start_time": "2023-10-20T14:47:24.985Z"
   },
   {
    "duration": 24,
    "start_time": "2023-10-20T14:47:25.000Z"
   },
   {
    "duration": 20,
    "start_time": "2023-10-20T14:47:25.026Z"
   },
   {
    "duration": 283,
    "start_time": "2023-10-20T14:47:25.049Z"
   },
   {
    "duration": 29,
    "start_time": "2023-10-20T14:47:25.333Z"
   },
   {
    "duration": 213,
    "start_time": "2023-10-20T14:47:25.364Z"
   },
   {
    "duration": 196,
    "start_time": "2023-10-20T14:47:25.579Z"
   },
   {
    "duration": 305,
    "start_time": "2023-10-20T14:47:25.777Z"
   },
   {
    "duration": 25,
    "start_time": "2023-10-20T14:47:26.084Z"
   },
   {
    "duration": 802,
    "start_time": "2023-10-20T14:47:26.111Z"
   },
   {
    "duration": 6,
    "start_time": "2023-10-20T14:47:26.915Z"
   },
   {
    "duration": 214,
    "start_time": "2023-10-20T14:47:26.922Z"
   },
   {
    "duration": 398,
    "start_time": "2023-10-20T14:47:27.138Z"
   },
   {
    "duration": 561,
    "start_time": "2023-10-20T14:47:27.538Z"
   },
   {
    "duration": 34,
    "start_time": "2023-10-20T14:47:28.101Z"
   },
   {
    "duration": 40,
    "start_time": "2023-10-20T14:47:28.137Z"
   },
   {
    "duration": 56,
    "start_time": "2023-10-20T14:47:28.179Z"
   },
   {
    "duration": 49,
    "start_time": "2023-10-20T14:47:28.237Z"
   },
   {
    "duration": 256,
    "start_time": "2023-10-20T14:47:28.288Z"
   },
   {
    "duration": 255,
    "start_time": "2023-10-20T14:47:28.547Z"
   },
   {
    "duration": 267,
    "start_time": "2023-10-20T14:47:28.808Z"
   },
   {
    "duration": 101,
    "start_time": "2023-10-20T14:47:29.077Z"
   },
   {
    "duration": 11,
    "start_time": "2023-10-20T14:47:29.180Z"
   },
   {
    "duration": 5206,
    "start_time": "2023-10-20T14:47:29.193Z"
   },
   {
    "duration": 203,
    "start_time": "2023-10-20T14:47:34.401Z"
   },
   {
    "duration": 4,
    "start_time": "2023-10-20T14:47:34.606Z"
   },
   {
    "duration": 29,
    "start_time": "2023-10-20T14:47:34.612Z"
   },
   {
    "duration": 33,
    "start_time": "2023-10-20T14:47:34.645Z"
   },
   {
    "duration": 34,
    "start_time": "2023-10-20T14:47:34.680Z"
   },
   {
    "duration": 37,
    "start_time": "2023-10-20T14:47:34.716Z"
   },
   {
    "duration": 38,
    "start_time": "2023-10-20T14:47:34.757Z"
   },
   {
    "duration": 44,
    "start_time": "2023-10-20T14:47:34.796Z"
   },
   {
    "duration": 1685,
    "start_time": "2023-10-20T14:47:34.842Z"
   },
   {
    "duration": 50,
    "start_time": "2023-10-20T14:47:36.529Z"
   },
   {
    "duration": 23,
    "start_time": "2023-10-20T14:47:36.581Z"
   },
   {
    "duration": 47,
    "start_time": "2023-10-20T15:20:27.959Z"
   },
   {
    "duration": 1417,
    "start_time": "2023-10-20T15:20:36.901Z"
   },
   {
    "duration": 211,
    "start_time": "2023-10-20T15:20:38.320Z"
   },
   {
    "duration": 13,
    "start_time": "2023-10-20T15:20:38.534Z"
   },
   {
    "duration": 18,
    "start_time": "2023-10-20T15:20:38.549Z"
   },
   {
    "duration": 22,
    "start_time": "2023-10-20T15:20:38.569Z"
   },
   {
    "duration": 17,
    "start_time": "2023-10-20T15:20:38.593Z"
   },
   {
    "duration": 7,
    "start_time": "2023-10-20T15:20:38.612Z"
   },
   {
    "duration": 34,
    "start_time": "2023-10-20T15:20:38.621Z"
   },
   {
    "duration": 24,
    "start_time": "2023-10-20T15:20:38.657Z"
   },
   {
    "duration": 35,
    "start_time": "2023-10-20T15:20:38.684Z"
   },
   {
    "duration": 36,
    "start_time": "2023-10-20T15:20:38.720Z"
   },
   {
    "duration": 22,
    "start_time": "2023-10-20T15:20:38.758Z"
   },
   {
    "duration": 5,
    "start_time": "2023-10-20T15:20:38.781Z"
   },
   {
    "duration": 221,
    "start_time": "2023-10-20T15:20:38.788Z"
   },
   {
    "duration": 25,
    "start_time": "2023-10-20T15:20:39.011Z"
   },
   {
    "duration": 160,
    "start_time": "2023-10-20T15:20:39.037Z"
   },
   {
    "duration": 173,
    "start_time": "2023-10-20T15:20:39.199Z"
   },
   {
    "duration": 293,
    "start_time": "2023-10-20T15:20:39.375Z"
   },
   {
    "duration": 22,
    "start_time": "2023-10-20T15:20:39.670Z"
   },
   {
    "duration": 718,
    "start_time": "2023-10-20T15:20:39.694Z"
   },
   {
    "duration": 16,
    "start_time": "2023-10-20T15:20:40.414Z"
   },
   {
    "duration": 206,
    "start_time": "2023-10-20T15:20:40.432Z"
   },
   {
    "duration": 379,
    "start_time": "2023-10-20T15:20:40.641Z"
   },
   {
    "duration": 465,
    "start_time": "2023-10-20T15:20:41.026Z"
   },
   {
    "duration": 43,
    "start_time": "2023-10-20T15:20:41.493Z"
   },
   {
    "duration": 27,
    "start_time": "2023-10-20T15:20:41.542Z"
   },
   {
    "duration": 71,
    "start_time": "2023-10-20T15:20:41.571Z"
   },
   {
    "duration": 22,
    "start_time": "2023-10-20T15:20:41.645Z"
   },
   {
    "duration": 108,
    "start_time": "2023-10-20T15:20:41.668Z"
   },
   {
    "duration": 195,
    "start_time": "2023-10-20T15:20:41.778Z"
   },
   {
    "duration": 185,
    "start_time": "2023-10-20T15:20:41.975Z"
   },
   {
    "duration": 35,
    "start_time": "2023-10-20T15:20:42.162Z"
   },
   {
    "duration": 7,
    "start_time": "2023-10-20T15:20:42.199Z"
   },
   {
    "duration": 4977,
    "start_time": "2023-10-20T15:20:42.207Z"
   },
   {
    "duration": 232,
    "start_time": "2023-10-20T15:20:47.186Z"
   },
   {
    "duration": 12,
    "start_time": "2023-10-20T15:20:47.420Z"
   },
   {
    "duration": 40,
    "start_time": "2023-10-20T15:20:47.434Z"
   },
   {
    "duration": 24,
    "start_time": "2023-10-20T15:20:47.476Z"
   },
   {
    "duration": 27,
    "start_time": "2023-10-20T15:20:47.501Z"
   },
   {
    "duration": 122,
    "start_time": "2023-10-20T15:20:47.529Z"
   },
   {
    "duration": 151,
    "start_time": "2023-10-20T15:20:47.653Z"
   },
   {
    "duration": 111,
    "start_time": "2023-10-20T15:20:47.806Z"
   },
   {
    "duration": 1573,
    "start_time": "2023-10-20T15:20:47.918Z"
   },
   {
    "duration": 48,
    "start_time": "2023-10-20T15:20:49.493Z"
   },
   {
    "duration": 103,
    "start_time": "2023-10-20T15:20:49.543Z"
   },
   {
    "duration": 143,
    "start_time": "2023-10-20T15:25:47.245Z"
   },
   {
    "duration": 1289,
    "start_time": "2023-10-20T17:34:46.200Z"
   },
   {
    "duration": 77,
    "start_time": "2023-10-20T17:34:47.492Z"
   },
   {
    "duration": 13,
    "start_time": "2023-10-20T17:34:47.571Z"
   },
   {
    "duration": 16,
    "start_time": "2023-10-20T17:34:47.586Z"
   },
   {
    "duration": 24,
    "start_time": "2023-10-20T17:34:47.603Z"
   },
   {
    "duration": 23,
    "start_time": "2023-10-20T17:34:47.628Z"
   },
   {
    "duration": 18,
    "start_time": "2023-10-20T17:34:47.653Z"
   },
   {
    "duration": 13,
    "start_time": "2023-10-20T17:34:47.673Z"
   },
   {
    "duration": 10,
    "start_time": "2023-10-20T17:34:47.688Z"
   },
   {
    "duration": 10,
    "start_time": "2023-10-20T17:34:47.701Z"
   },
   {
    "duration": 8,
    "start_time": "2023-10-20T17:34:47.713Z"
   },
   {
    "duration": 40,
    "start_time": "2023-10-20T17:34:47.722Z"
   },
   {
    "duration": 6,
    "start_time": "2023-10-20T17:34:47.763Z"
   },
   {
    "duration": 223,
    "start_time": "2023-10-20T17:34:47.772Z"
   },
   {
    "duration": 12,
    "start_time": "2023-10-20T17:34:47.997Z"
   },
   {
    "duration": 192,
    "start_time": "2023-10-20T17:34:48.010Z"
   },
   {
    "duration": 173,
    "start_time": "2023-10-20T17:34:48.203Z"
   },
   {
    "duration": 290,
    "start_time": "2023-10-20T17:34:48.379Z"
   },
   {
    "duration": 25,
    "start_time": "2023-10-20T17:34:48.671Z"
   },
   {
    "duration": 709,
    "start_time": "2023-10-20T17:34:48.698Z"
   },
   {
    "duration": 6,
    "start_time": "2023-10-20T17:34:49.409Z"
   },
   {
    "duration": 202,
    "start_time": "2023-10-20T17:34:49.417Z"
   },
   {
    "duration": 417,
    "start_time": "2023-10-20T17:34:49.621Z"
   },
   {
    "duration": 528,
    "start_time": "2023-10-20T17:34:50.040Z"
   },
   {
    "duration": 33,
    "start_time": "2023-10-20T17:34:50.570Z"
   },
   {
    "duration": 12,
    "start_time": "2023-10-20T17:34:50.605Z"
   },
   {
    "duration": 48,
    "start_time": "2023-10-20T17:34:50.619Z"
   },
   {
    "duration": 24,
    "start_time": "2023-10-20T17:34:50.672Z"
   },
   {
    "duration": 28,
    "start_time": "2023-10-20T17:34:50.698Z"
   },
   {
    "duration": 218,
    "start_time": "2023-10-20T17:34:50.728Z"
   },
   {
    "duration": 202,
    "start_time": "2023-10-20T17:34:50.948Z"
   },
   {
    "duration": 33,
    "start_time": "2023-10-20T17:34:51.156Z"
   },
   {
    "duration": 6,
    "start_time": "2023-10-20T17:34:51.191Z"
   },
   {
    "duration": 4823,
    "start_time": "2023-10-20T17:34:51.199Z"
   },
   {
    "duration": 212,
    "start_time": "2023-10-20T17:34:56.024Z"
   },
   {
    "duration": 5,
    "start_time": "2023-10-20T17:34:56.237Z"
   },
   {
    "duration": 58,
    "start_time": "2023-10-20T17:34:56.244Z"
   },
   {
    "duration": 50,
    "start_time": "2023-10-20T17:34:56.304Z"
   },
   {
    "duration": 28,
    "start_time": "2023-10-20T17:34:56.356Z"
   },
   {
    "duration": 27,
    "start_time": "2023-10-20T17:34:56.386Z"
   },
   {
    "duration": 49,
    "start_time": "2023-10-20T17:34:56.415Z"
   },
   {
    "duration": 31,
    "start_time": "2023-10-20T17:34:56.466Z"
   },
   {
    "duration": 1986,
    "start_time": "2023-10-20T17:34:56.498Z"
   },
   {
    "duration": 32,
    "start_time": "2023-10-20T17:34:58.485Z"
   },
   {
    "duration": 28,
    "start_time": "2023-10-20T17:34:58.519Z"
   },
   {
    "duration": 9,
    "start_time": "2023-10-20T17:34:58.556Z"
   },
   {
    "duration": 31,
    "start_time": "2023-10-20T17:34:58.567Z"
   },
   {
    "duration": 59,
    "start_time": "2023-10-20T17:34:58.599Z"
   },
   {
    "duration": 34,
    "start_time": "2023-10-20T17:34:58.660Z"
   },
   {
    "duration": 67,
    "start_time": "2023-10-20T17:34:58.696Z"
   },
   {
    "duration": 23,
    "start_time": "2023-10-20T17:34:58.765Z"
   },
   {
    "duration": 56,
    "start_time": "2023-10-20T18:05:53.062Z"
   },
   {
    "duration": 1429,
    "start_time": "2023-10-20T18:06:00.071Z"
   },
   {
    "duration": 209,
    "start_time": "2023-10-20T18:06:01.502Z"
   },
   {
    "duration": 12,
    "start_time": "2023-10-20T18:06:01.713Z"
   },
   {
    "duration": 87,
    "start_time": "2023-10-20T18:06:01.727Z"
   },
   {
    "duration": 56,
    "start_time": "2023-10-20T18:06:01.815Z"
   },
   {
    "duration": 92,
    "start_time": "2023-10-20T18:06:01.873Z"
   },
   {
    "duration": 51,
    "start_time": "2023-10-20T18:06:01.968Z"
   },
   {
    "duration": 60,
    "start_time": "2023-10-20T18:06:02.021Z"
   },
   {
    "duration": 60,
    "start_time": "2023-10-20T18:06:02.082Z"
   },
   {
    "duration": 68,
    "start_time": "2023-10-20T18:06:02.145Z"
   },
   {
    "duration": 43,
    "start_time": "2023-10-20T18:06:02.214Z"
   },
   {
    "duration": 53,
    "start_time": "2023-10-20T18:06:02.259Z"
   },
   {
    "duration": 47,
    "start_time": "2023-10-20T18:06:02.314Z"
   },
   {
    "duration": 244,
    "start_time": "2023-10-20T18:06:02.364Z"
   },
   {
    "duration": 9,
    "start_time": "2023-10-20T18:06:02.610Z"
   },
   {
    "duration": 205,
    "start_time": "2023-10-20T18:06:02.621Z"
   },
   {
    "duration": 163,
    "start_time": "2023-10-20T18:06:02.828Z"
   },
   {
    "duration": 275,
    "start_time": "2023-10-20T18:06:02.993Z"
   },
   {
    "duration": 22,
    "start_time": "2023-10-20T18:06:03.270Z"
   },
   {
    "duration": 759,
    "start_time": "2023-10-20T18:06:03.294Z"
   },
   {
    "duration": 7,
    "start_time": "2023-10-20T18:06:04.055Z"
   },
   {
    "duration": 178,
    "start_time": "2023-10-20T18:06:04.063Z"
   },
   {
    "duration": 391,
    "start_time": "2023-10-20T18:06:04.244Z"
   },
   {
    "duration": 542,
    "start_time": "2023-10-20T18:06:04.636Z"
   },
   {
    "duration": 29,
    "start_time": "2023-10-20T18:06:05.179Z"
   },
   {
    "duration": 8,
    "start_time": "2023-10-20T18:06:05.210Z"
   },
   {
    "duration": 44,
    "start_time": "2023-10-20T18:06:05.220Z"
   },
   {
    "duration": 18,
    "start_time": "2023-10-20T18:06:05.268Z"
   },
   {
    "duration": 15,
    "start_time": "2023-10-20T18:06:05.288Z"
   },
   {
    "duration": 177,
    "start_time": "2023-10-20T18:06:05.305Z"
   },
   {
    "duration": 176,
    "start_time": "2023-10-20T18:06:05.484Z"
   },
   {
    "duration": 26,
    "start_time": "2023-10-20T18:06:05.662Z"
   },
   {
    "duration": 9,
    "start_time": "2023-10-20T18:06:05.690Z"
   },
   {
    "duration": 4547,
    "start_time": "2023-10-20T18:06:05.701Z"
   },
   {
    "duration": 201,
    "start_time": "2023-10-20T18:06:10.250Z"
   },
   {
    "duration": 4,
    "start_time": "2023-10-20T18:06:10.452Z"
   },
   {
    "duration": 7,
    "start_time": "2023-10-20T18:06:10.458Z"
   },
   {
    "duration": 6,
    "start_time": "2023-10-20T18:06:10.467Z"
   },
   {
    "duration": 6,
    "start_time": "2023-10-20T18:06:10.475Z"
   },
   {
    "duration": 5,
    "start_time": "2023-10-20T18:06:10.483Z"
   },
   {
    "duration": 33,
    "start_time": "2023-10-20T18:06:10.489Z"
   },
   {
    "duration": 13,
    "start_time": "2023-10-20T18:06:10.524Z"
   },
   {
    "duration": 1443,
    "start_time": "2023-10-20T18:06:10.546Z"
   },
   {
    "duration": 26,
    "start_time": "2023-10-20T18:06:11.990Z"
   },
   {
    "duration": 6,
    "start_time": "2023-10-20T18:06:12.018Z"
   },
   {
    "duration": 20,
    "start_time": "2023-10-20T18:06:12.026Z"
   },
   {
    "duration": 24,
    "start_time": "2023-10-20T18:06:12.048Z"
   },
   {
    "duration": 13,
    "start_time": "2023-10-20T18:06:12.074Z"
   },
   {
    "duration": 31,
    "start_time": "2023-10-20T18:06:12.088Z"
   },
   {
    "duration": 21,
    "start_time": "2023-10-20T18:06:12.121Z"
   },
   {
    "duration": 12,
    "start_time": "2023-10-20T18:06:12.144Z"
   },
   {
    "duration": 165,
    "start_time": "2023-10-20T18:06:16.712Z"
   },
   {
    "duration": 204,
    "start_time": "2023-10-20T18:09:25.959Z"
   }
  ],
  "kernelspec": {
   "display_name": "Python 3 (ipykernel)",
   "language": "python",
   "name": "python3"
  },
  "language_info": {
   "codemirror_mode": {
    "name": "ipython",
    "version": 3
   },
   "file_extension": ".py",
   "mimetype": "text/x-python",
   "name": "python",
   "nbconvert_exporter": "python",
   "pygments_lexer": "ipython3",
   "version": "3.11.4"
  },
  "toc": {
   "base_numbering": 1,
   "nav_menu": {},
   "number_sections": true,
   "sideBar": true,
   "skip_h1_title": true,
   "title_cell": "Table of Contents",
   "title_sidebar": "Contents",
   "toc_cell": false,
   "toc_position": {},
   "toc_section_display": true,
   "toc_window_display": true
  }
 },
 "nbformat": 4,
 "nbformat_minor": 5
}
